{
  "cells": [
    {
      "cell_type": "markdown",
      "metadata": {
        "id": "m5tUoHe9FRhs"
      },
      "source": [
        "## Import Libraries"
      ]
    },
    {
      "cell_type": "code",
      "execution_count": null,
      "metadata": {
        "colab": {
          "base_uri": "https://localhost:8080/"
        },
        "id": "Dr7BCHS-nIRW",
        "outputId": "47775c2a-e66a-40b0-f9eb-6f379ad01485",
        "scrolled": true
      },
      "outputs": [
        {
          "name": "stdout",
          "output_type": "stream",
          "text": [
            "Looking in indexes: https://pypi.org/simple, https://us-python.pkg.dev/colab-wheels/public/simple/\n",
            "Collecting transformers\n",
            "  Downloading transformers-4.21.2-py3-none-any.whl (4.7 MB)\n",
            "\u001b[K     |████████████████████████████████| 4.7 MB 4.7 MB/s \n",
            "\u001b[?25hRequirement already satisfied: tqdm>=4.27 in /usr/local/lib/python3.7/dist-packages (from transformers) (4.64.0)\n",
            "Requirement already satisfied: packaging>=20.0 in /usr/local/lib/python3.7/dist-packages (from transformers) (21.3)\n",
            "Requirement already satisfied: numpy>=1.17 in /usr/local/lib/python3.7/dist-packages (from transformers) (1.21.6)\n",
            "Requirement already satisfied: regex!=2019.12.17 in /usr/local/lib/python3.7/dist-packages (from transformers) (2022.6.2)\n",
            "Requirement already satisfied: requests in /usr/local/lib/python3.7/dist-packages (from transformers) (2.23.0)\n",
            "Requirement already satisfied: importlib-metadata in /usr/local/lib/python3.7/dist-packages (from transformers) (4.12.0)\n",
            "Collecting huggingface-hub<1.0,>=0.1.0\n",
            "  Downloading huggingface_hub-0.9.1-py3-none-any.whl (120 kB)\n",
            "\u001b[K     |████████████████████████████████| 120 kB 47.2 MB/s \n",
            "\u001b[?25hRequirement already satisfied: pyyaml>=5.1 in /usr/local/lib/python3.7/dist-packages (from transformers) (6.0)\n",
            "Requirement already satisfied: filelock in /usr/local/lib/python3.7/dist-packages (from transformers) (3.8.0)\n",
            "Collecting tokenizers!=0.11.3,<0.13,>=0.11.1\n",
            "  Downloading tokenizers-0.12.1-cp37-cp37m-manylinux_2_12_x86_64.manylinux2010_x86_64.whl (6.6 MB)\n",
            "\u001b[K     |████████████████████████████████| 6.6 MB 16.7 MB/s \n",
            "\u001b[?25hRequirement already satisfied: typing-extensions>=3.7.4.3 in /usr/local/lib/python3.7/dist-packages (from huggingface-hub<1.0,>=0.1.0->transformers) (4.1.1)\n",
            "Requirement already satisfied: pyparsing!=3.0.5,>=2.0.2 in /usr/local/lib/python3.7/dist-packages (from packaging>=20.0->transformers) (3.0.9)\n",
            "Requirement already satisfied: zipp>=0.5 in /usr/local/lib/python3.7/dist-packages (from importlib-metadata->transformers) (3.8.1)\n",
            "Requirement already satisfied: chardet<4,>=3.0.2 in /usr/local/lib/python3.7/dist-packages (from requests->transformers) (3.0.4)\n",
            "Requirement already satisfied: urllib3!=1.25.0,!=1.25.1,<1.26,>=1.21.1 in /usr/local/lib/python3.7/dist-packages (from requests->transformers) (1.24.3)\n",
            "Requirement already satisfied: idna<3,>=2.5 in /usr/local/lib/python3.7/dist-packages (from requests->transformers) (2.10)\n",
            "Requirement already satisfied: certifi>=2017.4.17 in /usr/local/lib/python3.7/dist-packages (from requests->transformers) (2022.6.15)\n",
            "Installing collected packages: tokenizers, huggingface-hub, transformers\n",
            "Successfully installed huggingface-hub-0.9.1 tokenizers-0.12.1 transformers-4.21.2\n"
          ]
        }
      ],
      "source": [
        "%pip install transformers\n",
        "import pandas as pd\n",
        "import numpy as np\n",
        "import tensorflow as tf\n",
        "import torch\n",
        "from torch.nn import BCEWithLogitsLoss, BCELoss\n",
        "from torch.utils.data import TensorDataset, DataLoader, RandomSampler, SequentialSampler\n",
        "from keras.preprocessing.sequence import pad_sequences\n",
        "from sklearn.model_selection import train_test_split\n",
        "from sklearn.preprocessing import MultiLabelBinarizer\n",
        "from sklearn.metrics import classification_report, confusion_matrix, multilabel_confusion_matrix, f1_score, accuracy_score\n",
        "import pickle\n",
        "import transformers\n",
        "#from transformers import *\n",
        "from tqdm import tqdm, trange\n",
        "from ast import literal_eval"
      ]
    },
    {
      "cell_type": "code",
      "execution_count": null,
      "metadata": {
        "colab": {
          "base_uri": "https://localhost:8080/"
        },
        "id": "zB5Dij6JuItX",
        "outputId": "9f7df95d-fd67-4f3b-96ac-e41ff793b515"
      },
      "outputs": [
        {
          "name": "stdout",
          "output_type": "stream",
          "text": [
            "Drive already mounted at /content/drive; to attempt to forcibly remount, call drive.mount(\"/content/drive\", force_remount=True).\n"
          ]
        }
      ],
      "source": [
        "from google.colab import drive\n",
        "drive.mount('/content/drive')"
      ]
    },
    {
      "cell_type": "code",
      "execution_count": null,
      "metadata": {
        "colab": {
          "base_uri": "https://localhost:8080/"
        },
        "id": "ogLjzMQiLuM6",
        "outputId": "ef44594e-1bf7-4bb8-bbcb-2829feb4a957"
      },
      "outputs": [
        {
          "name": "stdout",
          "output_type": "stream",
          "text": [
            "Found GPU at: /device:GPU:0\n"
          ]
        }
      ],
      "source": [
        "device_name = tf.test.gpu_device_name()\n",
        "if device_name != '/device:GPU:0':\n",
        "  raise SystemError('GPU device not found')\n",
        "print('Found GPU at: {}'.format(device_name))"
      ]
    },
    {
      "cell_type": "code",
      "execution_count": null,
      "metadata": {
        "colab": {
          "base_uri": "https://localhost:8080/",
          "height": 35
        },
        "id": "rbe2lmY4LuUE",
        "outputId": "b80f0a57-22fe-4118-bcb5-0b46920228e9"
      },
      "outputs": [
        {
          "data": {
            "application/vnd.google.colaboratory.intrinsic+json": {
              "type": "string"
            },
            "text/plain": [
              "'Tesla T4'"
            ]
          },
          "execution_count": 65,
          "metadata": {},
          "output_type": "execute_result"
        }
      ],
      "source": [
        "device = torch.device(\"cuda\" if torch.cuda.is_available() else \"cpu\")\n",
        "n_gpu = torch.cuda.device_count()\n",
        "torch.cuda.get_device_name(0)"
      ]
    },
    {
      "cell_type": "markdown",
      "metadata": {
        "id": "dLcetMjZFjSH"
      },
      "source": [
        "## Load and Preprocess Training Data"
      ]
    },
    {
      "cell_type": "markdown",
      "metadata": {
        "id": "2dal0ggBcYdD"
      },
      "source": [
        "Dataset will be tokenized then split into training and validation sets. The validation set will be used to monitor training. For testing a separate test set will be loaded for analysis."
      ]
    },
    {
      "cell_type": "code",
      "execution_count": null,
      "metadata": {
        "colab": {
          "base_uri": "https://localhost:8080/",
          "height": 337
        },
        "id": "0ecREc7GnISW",
        "outputId": "72ba6121-d31e-46f3-b29f-d0531959a05f",
        "scrolled": true
      },
      "outputs": [
        {
          "data": {
            "text/html": [
              "\n",
              "  <div id=\"df-20ab7629-3f5f-464b-811e-9ec1fc52d5ef\">\n",
              "    <div class=\"colab-df-container\">\n",
              "      <div>\n",
              "<style scoped>\n",
              "    .dataframe tbody tr th:only-of-type {\n",
              "        vertical-align: middle;\n",
              "    }\n",
              "\n",
              "    .dataframe tbody tr th {\n",
              "        vertical-align: top;\n",
              "    }\n",
              "\n",
              "    .dataframe thead th {\n",
              "        text-align: right;\n",
              "    }\n",
              "</style>\n",
              "<table border=\"1\" class=\"dataframe\">\n",
              "  <thead>\n",
              "    <tr style=\"text-align: right;\">\n",
              "      <th></th>\n",
              "      <th>id</th>\n",
              "      <th>comment_text</th>\n",
              "      <th>implementation</th>\n",
              "      <th>architecture</th>\n",
              "      <th>requirements</th>\n",
              "      <th>application_domain_knowledge</th>\n",
              "      <th>execution_platform</th>\n",
              "      <th>design</th>\n",
              "      <th>structure</th>\n",
              "      <th>behavior</th>\n",
              "      <th>data_model_information</th>\n",
              "      <th>development_process_tools</th>\n",
              "      <th>user_interface</th>\n",
              "    </tr>\n",
              "  </thead>\n",
              "  <tbody>\n",
              "    <tr>\n",
              "      <th>0</th>\n",
              "      <td>0</td>\n",
              "      <td>the main platform is a vacuum chamber on which...</td>\n",
              "      <td>0</td>\n",
              "      <td>0</td>\n",
              "      <td>1</td>\n",
              "      <td>0</td>\n",
              "      <td>0</td>\n",
              "      <td>0</td>\n",
              "      <td>0</td>\n",
              "      <td>0</td>\n",
              "      <td>0</td>\n",
              "      <td>0</td>\n",
              "      <td>0</td>\n",
              "    </tr>\n",
              "    <tr>\n",
              "      <th>1</th>\n",
              "      <td>1</td>\n",
              "      <td>the electron beam is mainly used for imaging</td>\n",
              "      <td>0</td>\n",
              "      <td>0</td>\n",
              "      <td>1</td>\n",
              "      <td>0</td>\n",
              "      <td>0</td>\n",
              "      <td>0</td>\n",
              "      <td>0</td>\n",
              "      <td>0</td>\n",
              "      <td>0</td>\n",
              "      <td>0</td>\n",
              "      <td>0</td>\n",
              "    </tr>\n",
              "    <tr>\n",
              "      <th>2</th>\n",
              "      <td>2</td>\n",
              "      <td>electrons generated in the gun unit at the top...</td>\n",
              "      <td>0</td>\n",
              "      <td>0</td>\n",
              "      <td>1</td>\n",
              "      <td>0</td>\n",
              "      <td>0</td>\n",
              "      <td>0</td>\n",
              "      <td>0</td>\n",
              "      <td>0</td>\n",
              "      <td>0</td>\n",
              "      <td>0</td>\n",
              "      <td>0</td>\n",
              "    </tr>\n",
              "    <tr>\n",
              "      <th>3</th>\n",
              "      <td>3</td>\n",
              "      <td>by means of an electron deflection system that...</td>\n",
              "      <td>0</td>\n",
              "      <td>0</td>\n",
              "      <td>1</td>\n",
              "      <td>0</td>\n",
              "      <td>0</td>\n",
              "      <td>0</td>\n",
              "      <td>0</td>\n",
              "      <td>0</td>\n",
              "      <td>0</td>\n",
              "      <td>0</td>\n",
              "      <td>0</td>\n",
              "    </tr>\n",
              "    <tr>\n",
              "      <th>4</th>\n",
              "      <td>4</td>\n",
              "      <td>the primary beam has interaction with the samp...</td>\n",
              "      <td>0</td>\n",
              "      <td>0</td>\n",
              "      <td>0</td>\n",
              "      <td>0</td>\n",
              "      <td>0</td>\n",
              "      <td>0</td>\n",
              "      <td>0</td>\n",
              "      <td>1</td>\n",
              "      <td>0</td>\n",
              "      <td>0</td>\n",
              "      <td>0</td>\n",
              "    </tr>\n",
              "  </tbody>\n",
              "</table>\n",
              "</div>\n",
              "      <button class=\"colab-df-convert\" onclick=\"convertToInteractive('df-20ab7629-3f5f-464b-811e-9ec1fc52d5ef')\"\n",
              "              title=\"Convert this dataframe to an interactive table.\"\n",
              "              style=\"display:none;\">\n",
              "        \n",
              "  <svg xmlns=\"http://www.w3.org/2000/svg\" height=\"24px\"viewBox=\"0 0 24 24\"\n",
              "       width=\"24px\">\n",
              "    <path d=\"M0 0h24v24H0V0z\" fill=\"none\"/>\n",
              "    <path d=\"M18.56 5.44l.94 2.06.94-2.06 2.06-.94-2.06-.94-.94-2.06-.94 2.06-2.06.94zm-11 1L8.5 8.5l.94-2.06 2.06-.94-2.06-.94L8.5 2.5l-.94 2.06-2.06.94zm10 10l.94 2.06.94-2.06 2.06-.94-2.06-.94-.94-2.06-.94 2.06-2.06.94z\"/><path d=\"M17.41 7.96l-1.37-1.37c-.4-.4-.92-.59-1.43-.59-.52 0-1.04.2-1.43.59L10.3 9.45l-7.72 7.72c-.78.78-.78 2.05 0 2.83L4 21.41c.39.39.9.59 1.41.59.51 0 1.02-.2 1.41-.59l7.78-7.78 2.81-2.81c.8-.78.8-2.07 0-2.86zM5.41 20L4 18.59l7.72-7.72 1.47 1.35L5.41 20z\"/>\n",
              "  </svg>\n",
              "      </button>\n",
              "      \n",
              "  <style>\n",
              "    .colab-df-container {\n",
              "      display:flex;\n",
              "      flex-wrap:wrap;\n",
              "      gap: 12px;\n",
              "    }\n",
              "\n",
              "    .colab-df-convert {\n",
              "      background-color: #E8F0FE;\n",
              "      border: none;\n",
              "      border-radius: 50%;\n",
              "      cursor: pointer;\n",
              "      display: none;\n",
              "      fill: #1967D2;\n",
              "      height: 32px;\n",
              "      padding: 0 0 0 0;\n",
              "      width: 32px;\n",
              "    }\n",
              "\n",
              "    .colab-df-convert:hover {\n",
              "      background-color: #E2EBFA;\n",
              "      box-shadow: 0px 1px 2px rgba(60, 64, 67, 0.3), 0px 1px 3px 1px rgba(60, 64, 67, 0.15);\n",
              "      fill: #174EA6;\n",
              "    }\n",
              "\n",
              "    [theme=dark] .colab-df-convert {\n",
              "      background-color: #3B4455;\n",
              "      fill: #D2E3FC;\n",
              "    }\n",
              "\n",
              "    [theme=dark] .colab-df-convert:hover {\n",
              "      background-color: #434B5C;\n",
              "      box-shadow: 0px 1px 3px 1px rgba(0, 0, 0, 0.15);\n",
              "      filter: drop-shadow(0px 1px 2px rgba(0, 0, 0, 0.3));\n",
              "      fill: #FFFFFF;\n",
              "    }\n",
              "  </style>\n",
              "\n",
              "      <script>\n",
              "        const buttonEl =\n",
              "          document.querySelector('#df-20ab7629-3f5f-464b-811e-9ec1fc52d5ef button.colab-df-convert');\n",
              "        buttonEl.style.display =\n",
              "          google.colab.kernel.accessAllowed ? 'block' : 'none';\n",
              "\n",
              "        async function convertToInteractive(key) {\n",
              "          const element = document.querySelector('#df-20ab7629-3f5f-464b-811e-9ec1fc52d5ef');\n",
              "          const dataTable =\n",
              "            await google.colab.kernel.invokeFunction('convertToInteractive',\n",
              "                                                     [key], {});\n",
              "          if (!dataTable) return;\n",
              "\n",
              "          const docLinkHtml = 'Like what you see? Visit the ' +\n",
              "            '<a target=\"_blank\" href=https://colab.research.google.com/notebooks/data_table.ipynb>data table notebook</a>'\n",
              "            + ' to learn more about interactive tables.';\n",
              "          element.innerHTML = '';\n",
              "          dataTable['output_type'] = 'display_data';\n",
              "          await google.colab.output.renderOutput(dataTable, element);\n",
              "          const docLink = document.createElement('div');\n",
              "          docLink.innerHTML = docLinkHtml;\n",
              "          element.appendChild(docLink);\n",
              "        }\n",
              "      </script>\n",
              "    </div>\n",
              "  </div>\n",
              "  "
            ],
            "text/plain": [
              "   id                                       comment_text  implementation  \\\n",
              "0   0  the main platform is a vacuum chamber on which...               0   \n",
              "1   1       the electron beam is mainly used for imaging               0   \n",
              "2   2  electrons generated in the gun unit at the top...               0   \n",
              "3   3  by means of an electron deflection system that...               0   \n",
              "4   4  the primary beam has interaction with the samp...               0   \n",
              "\n",
              "   architecture  requirements  application_domain_knowledge  \\\n",
              "0             0             1                             0   \n",
              "1             0             1                             0   \n",
              "2             0             1                             0   \n",
              "3             0             1                             0   \n",
              "4             0             0                             0   \n",
              "\n",
              "   execution_platform  design  structure  behavior  data_model_information  \\\n",
              "0                   0       0          0         0                       0   \n",
              "1                   0       0          0         0                       0   \n",
              "2                   0       0          0         0                       0   \n",
              "3                   0       0          0         0                       0   \n",
              "4                   0       0          0         1                       0   \n",
              "\n",
              "   development_process_tools  user_interface  \n",
              "0                          0               0  \n",
              "1                          0               0  \n",
              "2                          0               0  \n",
              "3                          0               0  \n",
              "4                          0               0  "
            ]
          },
          "execution_count": 66,
          "metadata": {},
          "output_type": "execute_result"
        }
      ],
      "source": [
        "filepath=\"/content/drive/MyDrive/dataset/rawdata3.csv\"\n",
        "#df = open(filepath,encoding=\"utf-8\",errors=\"ignore\")\n",
        "df=pd.read_csv(filepath,encoding=\"utf-8\") #jigsaw-toxic-comment-classification-challenge\n",
        "df.head()"
      ]
    },
    {
      "cell_type": "code",
      "execution_count": null,
      "metadata": {
        "colab": {
          "base_uri": "https://localhost:8080/"
        },
        "id": "6AhWrzX7nITB",
        "outputId": "2084e945-925a-41fe-bb00-f3723d8159c5"
      },
      "outputs": [
        {
          "name": "stdout",
          "output_type": "stream",
          "text": [
            "Unique comments:  False\n",
            "Null values:  False\n"
          ]
        }
      ],
      "source": [
        "print('Unique comments: ', df.comment_text.nunique() == df.shape[0])\n",
        "print('Null values: ', df.isnull().values.any())\n",
        "# df[df.isna().any(axis=1)]"
      ]
    },
    {
      "cell_type": "code",
      "execution_count": null,
      "metadata": {
        "colab": {
          "base_uri": "https://localhost:8080/"
        },
        "id": "o1rLc9FjEHAH",
        "outputId": "d31a0ef2-a73f-4f54-ce52-c8512d355135"
      },
      "outputs": [
        {
          "name": "stdout",
          "output_type": "stream",
          "text": [
            "Looking in indexes: https://pypi.org/simple, https://us-python.pkg.dev/colab-wheels/public/simple/\n",
            "Collecting stanfordnlp\n",
            "  Downloading stanfordnlp-0.2.0-py3-none-any.whl (158 kB)\n",
            "\u001b[K     |████████████████████████████████| 158 kB 4.7 MB/s \n",
            "\u001b[?25hRequirement already satisfied: tqdm in /usr/local/lib/python3.7/dist-packages (from stanfordnlp) (4.64.0)\n",
            "Requirement already satisfied: numpy in /usr/local/lib/python3.7/dist-packages (from stanfordnlp) (1.21.6)\n",
            "Requirement already satisfied: protobuf in /usr/local/lib/python3.7/dist-packages (from stanfordnlp) (3.17.3)\n",
            "Requirement already satisfied: requests in /usr/local/lib/python3.7/dist-packages (from stanfordnlp) (2.23.0)\n",
            "Requirement already satisfied: torch>=1.0.0 in /usr/local/lib/python3.7/dist-packages (from stanfordnlp) (1.12.1+cu113)\n",
            "Requirement already satisfied: typing-extensions in /usr/local/lib/python3.7/dist-packages (from torch>=1.0.0->stanfordnlp) (4.1.1)\n",
            "Requirement already satisfied: six>=1.9 in /usr/local/lib/python3.7/dist-packages (from protobuf->stanfordnlp) (1.15.0)\n",
            "Requirement already satisfied: chardet<4,>=3.0.2 in /usr/local/lib/python3.7/dist-packages (from requests->stanfordnlp) (3.0.4)\n",
            "Requirement already satisfied: certifi>=2017.4.17 in /usr/local/lib/python3.7/dist-packages (from requests->stanfordnlp) (2022.6.15)\n",
            "Requirement already satisfied: idna<3,>=2.5 in /usr/local/lib/python3.7/dist-packages (from requests->stanfordnlp) (2.10)\n",
            "Requirement already satisfied: urllib3!=1.25.0,!=1.25.1,<1.26,>=1.21.1 in /usr/local/lib/python3.7/dist-packages (from requests->stanfordnlp) (1.24.3)\n",
            "Installing collected packages: stanfordnlp\n",
            "Successfully installed stanfordnlp-0.2.0\n",
            "Using the default treebank \"en_ewt\" for language \"en\".\n",
            "Would you like to download the models for: en_ewt now? (Y/n)\n",
            "Y\n",
            "\n",
            "Default download directory: /root/stanfordnlp_resources\n",
            "Hit enter to continue or type an alternate directory.\n",
            "\n",
            "\n",
            "Downloading models for: en_ewt\n",
            "Download location: /root/stanfordnlp_resources/en_ewt_models.zip\n"
          ]
        },
        {
          "name": "stderr",
          "output_type": "stream",
          "text": [
            "100%|██████████| 235M/235M [00:41<00:00, 5.71MB/s]\n"
          ]
        },
        {
          "name": "stdout",
          "output_type": "stream",
          "text": [
            "\n",
            "Download complete.  Models saved to: /root/stanfordnlp_resources/en_ewt_models.zip\n",
            "Extracting models file for: en_ewt\n",
            "Cleaning up...Done.\n",
            "Use device: gpu\n",
            "---\n",
            "Loading: tokenize\n",
            "With settings: \n",
            "{'model_path': '/root/stanfordnlp_resources/en_ewt_models/en_ewt_tokenizer.pt', 'lang': 'en', 'shorthand': 'en_ewt', 'mode': 'predict'}\n",
            "---\n",
            "Loading: pos\n",
            "With settings: \n",
            "{'model_path': '/root/stanfordnlp_resources/en_ewt_models/en_ewt_tagger.pt', 'pretrain_path': '/root/stanfordnlp_resources/en_ewt_models/en_ewt.pretrain.pt', 'lang': 'en', 'shorthand': 'en_ewt', 'mode': 'predict'}\n",
            "---\n",
            "Loading: depparse\n",
            "With settings: \n",
            "{'model_path': '/root/stanfordnlp_resources/en_ewt_models/en_ewt_parser.pt', 'pretrain_path': '/root/stanfordnlp_resources/en_ewt_models/en_ewt.pretrain.pt', 'lang': 'en', 'shorthand': 'en_ewt', 'mode': 'predict'}\n",
            "---\n",
            "Loading: lemma\n",
            "With settings: \n",
            "{'model_path': '/root/stanfordnlp_resources/en_ewt_models/en_ewt_lemmatizer.pt', 'lang': 'en', 'shorthand': 'en_ewt', 'mode': 'predict'}\n",
            "Building an attentional Seq2Seq model...\n",
            "Using a Bi-LSTM encoder\n",
            "Using soft attention for LSTM.\n",
            "Finetune all embeddings.\n",
            "[Running seq2seq lemmatizer with edit classifier]\n",
            "Done loading processors!\n",
            "---\n",
            "word: It \txpos: PRP\n",
            "word: is \txpos: VBZ\n",
            "word: just \txpos: RB\n",
            "word: some \txpos: DT\n",
            "word: random \txpos: JJ\n",
            "word: test \txpos: NN\n",
            "word: . \txpos: .\n"
          ]
        },
        {
          "name": "stderr",
          "output_type": "stream",
          "text": [
            "/usr/local/lib/python3.7/dist-packages/stanfordnlp/models/depparse/model.py:157: UserWarning: masked_fill_ received a mask with dtype torch.uint8, this behavior is now deprecated,please use a mask with dtype torch.bool instead. (Triggered internally at  ../aten/src/ATen/native/cuda/Indexing.cu:1239.)\n",
            "  unlabeled_scores.masked_fill_(diag, -float('inf'))\n"
          ]
        }
      ],
      "source": [
        "%pip install stanfordnlp\n",
        "import stanfordnlp\n",
        "torch.backends.cudnn.enabled=False\n",
        "stanfordnlp.download(\"en\")\n",
        "nlp = stanfordnlp.Pipeline(processors='tokenize,pos,depparse,lemma')\n",
        "s=\"It is just some random test.\"\n",
        "doc = nlp(s)\n",
        "print(*[f'word: {word.text+\" \"}\\txpos: {word.xpos}' for sent in doc.sentences for word in sent.words], sep='\\n')\n",
        "torch.backends.cudnn.enabled=True"
      ]
    },
    {
      "cell_type": "code",
      "execution_count": null,
      "metadata": {
        "id": "9NeRGmBg2Shp"
      },
      "outputs": [],
      "source": [
        "#check if the sentence is passive(passive verb exits)\n",
        "def _is_passive(tokens):\n",
        "  for tok in tokens:\n",
        "    if(tok.dep_ == \"auxpass\"):\n",
        "      return True\n",
        "  return False"
      ]
    },
    {
      "cell_type": "code",
      "execution_count": null,
      "metadata": {
        "id": "iwp4Naqc9_13"
      },
      "outputs": [],
      "source": [
        "# if auxiliary verbs\n",
        "def _is_non_aux_verb(tok):\n",
        "  return tok.pos_ == \"VERB\" and (tok.dep_ != \"aux\" and tok.dep_ != \"auxpass\")"
      ]
    },
    {
      "cell_type": "code",
      "execution_count": null,
      "metadata": {
        "id": "RbYdhMX3_D4f"
      },
      "outputs": [],
      "source": [
        "#if verb\n",
        "def _is_verb(tok):\n",
        "  return tok.pos_ == \"VERB\" or tok.pos_ == \"AUX\""
      ]
    },
    {
      "cell_type": "code",
      "execution_count": null,
      "metadata": {
        "id": "cfiJ_VuT_mUa"
      },
      "outputs": [],
      "source": [
        "#find the verb\n",
        "def _find_verbs(tokens):\n",
        "  verbs = [tok for tok in tokens if _is_non_aux_verb(tok)]\n",
        "  if(len(verbs) == 0):\n",
        "    verbs = [tok for tok in tokens if _is_verb(tok)]\n",
        "  return verbs"
      ]
    },
    {
      "cell_type": "code",
      "execution_count": null,
      "metadata": {
        "id": "tzf4fk_c_3xG"
      },
      "outputs": [],
      "source": [
        "# does dependency set contain any coordinating conjunctions?\n",
        "def contains_conj(depSet):\n",
        "  return \"and\" in depSet or \"or\" in depSet or \"nor\" in depSet or \"but\" in depSet or \"yet\" in depSet or \"so\" in depSet or \"for\" in depSet"
      ]
    },
    {
      "cell_type": "code",
      "execution_count": null,
      "metadata": {
        "id": "BO7kYItDwYcW"
      },
      "outputs": [],
      "source": [
        "SUBJECTS = {\"nsubj\", \"nsubjpass\", \"csubj\", \"csubjpass\", \"agent\", \"expl\"}\n",
        "# get subs joined by conjunctions\n",
        "def _get_subs_from_conjunctions(subs):\n",
        "  more_subs = []\n",
        "  for sub in subs:\n",
        "    # rights is a generator\n",
        "    rights = list(sub.rights)\n",
        "    rightDeps = {tok.lower_ for tok in rights}\n",
        "    if contains_conj(rightDeps):\n",
        "      more_subs.extend([tok for tok in rights if tok.dep_ in SUBJECTS or tok.pos_ == \"NOUN\"])\n",
        "      if(len(more_subs))> 0:\n",
        "        more_subs.extend(_get_subs_from_conjunctions(more_subs))\n",
        "  return more_subs"
      ]
    },
    {
      "cell_type": "code",
      "execution_count": null,
      "metadata": {
        "id": "7lSJsZPd1JUH"
      },
      "outputs": [],
      "source": [
        "# is the tok set's left or right negated?\n",
        "NEGATIONS = {\"no\", \"not\", \"n't\", \"never\", \"none\"}\n",
        "def _is_negated(tok):\n",
        "  parts = list(tok.lefts) + list(tok.rights)\n",
        "  for dep in parts:\n",
        "    if(dep.lower_ in NEGATIONS):\n",
        "      return True\n",
        "  return False"
      ]
    },
    {
      "cell_type": "code",
      "execution_count": null,
      "metadata": {
        "id": "Dk69nWWc0XSI"
      },
      "outputs": [],
      "source": [
        "# find sub dependencies\n",
        "def _find_subs(tok):\n",
        "  head = tok.head\n",
        "  while(head.pos_ != \"VERB\" and head.pos_ != \"NOUN\" and head.head != head):\n",
        "    head = head.head\n",
        "  if(head.pos_ == \"VERB\"):\n",
        "    subs = [tok for tok in head.lefts if tok.dep_ == \"SUB\"]\n",
        "    if(len(subs) > 0):\n",
        "      verb_negated = _is_negated(head)\n",
        "      subs.extend(_get_subs_from_conjunctions(subs))\n",
        "      return subs, verb_negated\n",
        "    elif(head.head != head):\n",
        "      return _find_subs(head)\n",
        "  elif(head.pos_ == \"NOUN\"):\n",
        "    return [head], _is_negated(tok)\n",
        "  return [], False"
      ]
    },
    {
      "cell_type": "code",
      "execution_count": null,
      "metadata": {
        "id": "CQZ3F8IH5YyG"
      },
      "outputs": [],
      "source": [
        "OBJECTS = {\"dobj\", \"dative\", \"attr\", \"oprd\"}\n",
        "# get objects joined by conjunctions\n",
        "def _get_objs_from_conjunctions(objs):\n",
        "  more_objs = []\n",
        "  for obj in objs:\n",
        "    # rights is a generator\n",
        "    rights = list(obj.rights)\n",
        "    rightDeps = {tok.lower_ for tok in rights}\n",
        "    if(contains_conj(rightDeps)):\n",
        "      more_objs.extend([tok for tok in rights if tok.dep_ in OBJECTS or tok.pos_ == \"NOUN\"])\n",
        "      if(len(more_objs) > 0):\n",
        "        more_objs.extend(_get_objs_from_conjunctions(more_objs))\n",
        "  return more_objs"
      ]
    },
    {
      "cell_type": "code",
      "execution_count": null,
      "metadata": {
        "id": "gVcWYuw36XE0"
      },
      "outputs": [],
      "source": [
        "# get grammatical objects for a given set of dependencies (including passive sentences)\n",
        "def _get_objs_from_prepositions(deps, is_pas):\n",
        "  objs = []\n",
        "  for dep in deps:\n",
        "    if(dep.pos_ == \"ADP\" and (dep.dep_ == \"prep\" or (is_pas and dep.dep_ == \"agent\"))):\n",
        "      objs.extend([tok for tok in dep.rights if tok.dep_  in OBJECTS or (tok.pos_ == \"PRON\" and tok.lower_ == \"me\") or (is_pas and tok.dep_ == 'pobj')])\n",
        "  return objs"
      ]
    },
    {
      "cell_type": "code",
      "execution_count": null,
      "metadata": {
        "id": "zEvIkTRY8WR-"
      },
      "outputs": [],
      "source": [
        "# get objects from the dependencies using the attribute dependency\n",
        "def _get_objs_from_attrs(deps, is_pas):\n",
        "  for dep in deps:\n",
        "    if dep.pos_ == \"NOUN\" and dep.dep_ == \"attr\":\n",
        "      verbs = [tok for tok in dep.rights if tok.pos_ == \"VERB\"]\n",
        "      if(len(verbs) > 0):\n",
        "        for v in verbs:\n",
        "          rights = list(v.rights)\n",
        "          objs = [tok for tok in rights if tok.dep_ in OBJECTS]\n",
        "          objs.extend(_get_objs_from_prepositions(rights, is_pas))\n",
        "          if(len(objs) > 0):\n",
        "            return v, objs\n",
        "  return None, None"
      ]
    },
    {
      "cell_type": "code",
      "execution_count": null,
      "metadata": {
        "id": "jR20l6n29DDR"
      },
      "outputs": [],
      "source": [
        "# xcomp; open complement - verb has no suject\n",
        "def _get_obj_from_xcomp(deps, is_pas):\n",
        "  for dep in deps:\n",
        "    if(dep.pos_ == \"VERB\" and dep.dep_ == \"xcomp\"):\n",
        "      v = dep\n",
        "      rights = list(v.rights)\n",
        "      objs = [tok for tok in rights if tok.dep_ in OBJECTS]\n",
        "      objs.extend(_get_objs_from_prepositions(rights, is_pas))\n",
        "      if(len(objs) > 0):\n",
        "        return v, objs\n",
        "  return None, None"
      ]
    },
    {
      "cell_type": "code",
      "execution_count": null,
      "metadata": {
        "id": "gK3HLIdI9XKK"
      },
      "outputs": [],
      "source": [
        "# find the main verb - or any aux verb if we can't find it\n",
        "def _find_verbs(tokens):\n",
        "  verbs = [tok for tok in tokens if _is_non_aux_verb(tok)]\n",
        "  if(len(verbs) == 0):\n",
        "    verbs = [tok for tok in tokens if _is_verb(tok)]\n",
        "  return verbs"
      ]
    },
    {
      "cell_type": "code",
      "execution_count": null,
      "metadata": {
        "id": "z9HizmFl-Y8k"
      },
      "outputs": [],
      "source": [
        "# return the verb to the right of this verb in a CCONJ relationship if applicable\n",
        "def _right_of_verb_is_conj_verb(v):\n",
        "  # rights is a generator\n",
        "  rights = list(v.rights)\n",
        "  # VERB CCONJ VERB\n",
        "  if(len(rights) > 1 and rights[0].pos_ == 'CCONJ'):\n",
        "    for tok in rights[1:]:\n",
        "      if(_is_non_aux_verb(tok)):\n",
        "        return True, tok\n",
        "  return False, v"
      ]
    },
    {
      "cell_type": "code",
      "execution_count": null,
      "metadata": {
        "id": "AcsZIG2-9t_u"
      },
      "outputs": [],
      "source": [
        "# get all functional subjects adjacent to the verb passed in\n",
        "def _get_all_subs(v):\n",
        "  verb_negated = _is_negated(v)\n",
        "  subs = [tok for tok in v.lefts if tok.dep_ in SUBJECTS and tok.pos_ != \"DET\"]\n",
        "  if len(subs) > 0:\n",
        "    subs.extend(_get_subs_from_conjunctions(subs))\n",
        "  else:\n",
        "    foundSubs, verb_negated = _find_subs(v)\n",
        "    subs.extend(foundSubs)\n",
        "  return subs, verb_negated"
      ]
    },
    {
      "cell_type": "code",
      "execution_count": null,
      "metadata": {
        "id": "ZBdIfPSu994k"
      },
      "outputs": [],
      "source": [
        "# get all objects for an active/passive sentence\n",
        "def _get_all_objs(v, is_pas):\n",
        "  # rights is a generator\n",
        "  rights = list(v.rights)\n",
        "\n",
        "  objs = [tok for tok in rights if tok.dep_ in OBJECTS or (is_pas and tok.dep_ == 'pobj')]\n",
        "  objs.extend(_get_objs_from_prepositions(rights, is_pas))\n",
        "  potential_new_verb, potential_new_objs = _get_obj_from_xcomp(rights, is_pas)\n",
        "  if(potential_new_verb is not None and potential_new_objs is not None and len(potential_new_objs) > 0):\n",
        "    objs.extend(potential_new_objs)\n",
        "    v = potential_new_verb\n",
        "  if(len(objs) > 0):\n",
        "    objs.extend(_get_objs_from_conjunctions(objs))\n",
        "  return v, objs"
      ]
    },
    {
      "cell_type": "code",
      "execution_count": null,
      "metadata": {
        "id": "1HxrmAw0_Tx3"
      },
      "outputs": [],
      "source": [
        "# resolve a 'that' where/if appropriate\n",
        "def _get_that_resolution(toks):\n",
        "  for tok in toks:\n",
        "    if('that' in [t.orth_ for t in tok.lefts]):\n",
        "      return tok.head\n",
        "  return None"
      ]
    },
    {
      "cell_type": "code",
      "execution_count": null,
      "metadata": {
        "id": "2Zy2JAuy_n__"
      },
      "outputs": [],
      "source": [
        "# simple stemmer using lemmas\n",
        "def _get_lemma(word: str):\n",
        "  tokens = nlp(word)\n",
        "  if len(tokens) == 1:\n",
        "    return tokens[0].lemma_\n",
        "  return word"
      ]
    },
    {
      "cell_type": "code",
      "execution_count": null,
      "metadata": {
        "id": "4gzWfJFSALp3"
      },
      "outputs": [],
      "source": [
        "# print information for displaying all kinds of things of the parse tree\n",
        "def printDeps(toks):\n",
        "  for tok in toks:\n",
        "    print(tok.orth_, tok.dep_, tok.pos_, tok.head.text, [t.orth_ for t in tok.lefts], [t.orth_ for t in tok.rights])\n"
      ]
    },
    {
      "cell_type": "code",
      "execution_count": null,
      "metadata": {
        "id": "in1_qW94Bjyg"
      },
      "outputs": [],
      "source": [
        "BREAKER_POS = {\"CCONJ\", \"VERB\"}\n",
        "# expand an obj / subj np using its chunk\n",
        "def expand(item, tokens, visited):\n",
        "  if(item.lower_ == 'that'):\n",
        "    temp_item = _get_that_resolution(tokens)\n",
        "    if(temp_item is not None):\n",
        "      item = temp_item\n",
        "\n",
        "  parts = []\n",
        "\n",
        "  if(hasattr(item, 'lefts')):\n",
        "    for part in item.lefts:\n",
        "      if(part.pos_ in BREAKER_POS):\n",
        "        break\n",
        "      if(not part.lower_ in NEGATIONS):\n",
        "        parts.append(part)\n",
        "\n",
        "  parts.append(item)\n",
        "\n",
        "  if(hasattr(item, 'rights')):\n",
        "    for part in item.rights:\n",
        "      if(part.pos_ in BREAKER_POS):\n",
        "        break\n",
        "      if(not part.lower_ in NEGATIONS):\n",
        "        parts.append(part)\n",
        "\n",
        "  if(hasattr(parts[-1], 'rights')):\n",
        "    for item2 in parts[-1].rights:\n",
        "      if(item2.pos_ == \"DET\" or item2.pos_ == \"NOUN\"):\n",
        "        if(item2.i not in visited):\n",
        "          visited.add(item2.i)\n",
        "          parts.extend(expand(item2, tokens, visited))\n",
        "      break\n",
        "\n",
        "  return parts"
      ]
    },
    {
      "cell_type": "code",
      "execution_count": null,
      "metadata": {
        "id": "HHu6QYYtC-0w"
      },
      "outputs": [],
      "source": [
        "# convert a list of tokens to a string\n",
        "from collections.abc import Iterable\n",
        "def to_str(tokens):\n",
        "  if(isinstance(tokens, Iterable)):\n",
        "    return ' '.join([item.orth_ for item in tokens])\n",
        "  else:\n",
        "    return ''"
      ]
    },
    {
      "cell_type": "code",
      "execution_count": null,
      "metadata": {
        "id": "_ljd2I8GDUK3"
      },
      "outputs": [],
      "source": [
        "# get all the verbs on tokens with negation marker\n",
        "def _find_svs(tokens):\n",
        "  svs = []\n",
        "  verbs = [tok for tok in tokens if tok.pos_ == \"VERB\"]\n",
        "  for v in verbs:\n",
        "    subs, verbNegated = _get_all_subs(v)\n",
        "    if(len(subs) > 0):\n",
        "      for sub in subs:\n",
        "        svs.append((sub.orth_, \"!\" + v.orth_ if verbNegated else v.orth_))\n",
        "  return svs"
      ]
    },
    {
      "cell_type": "code",
      "execution_count": null,
      "metadata": {
        "id": "zs2NcLPtDr2F"
      },
      "outputs": [],
      "source": [
        "# find verbs and their subjects / objects to create SVOs, detect passive/active sentences\n",
        "def findSVOs(tokens):\n",
        "  svos = []\n",
        "  is_pas = _is_passive(tokens)\n",
        "  verbs = _find_verbs(tokens)\n",
        "  visited = set()  # recursion detection\n",
        "  for v in verbs:\n",
        "    subs, verbNegated = _get_all_subs(v)\n",
        "    # hopefully there are subs, if not, don't examine this verb any longer\n",
        "    if(len(subs) > 0):\n",
        "      isConjVerb, conjV = _right_of_verb_is_conj_verb(v)\n",
        "      if(isConjVerb):\n",
        "        v2, objs = _get_all_objs(conjV, is_pas)\n",
        "        for sub in subs:\n",
        "          for obj in objs:\n",
        "            objNegated = _is_negated(obj)\n",
        "            if(is_pas):  # reverse object / subject for passive\n",
        "              svos.append((to_str(expand(obj, tokens, visited)),\"!\" + v.lemma_ if verbNegated or objNegated else v.lemma_, to_str(expand(sub, tokens, visited))))\n",
        "              svos.append((to_str(expand(obj, tokens, visited)),\"!\" + v2.lemma_ if verbNegated or objNegated else v2.lemma_, to_str(expand(sub, tokens, visited))))\n",
        "            else:\n",
        "              svos.append((to_str(expand(sub, tokens, visited)),\"!\" + v.lower_ if verbNegated or objNegated else v.lower_, to_str(expand(obj, tokens, visited))))\n",
        "              svos.append((to_str(expand(sub, tokens, visited)),\"!\" + v2.lower_ if verbNegated or objNegated else v2.lower_, to_str(expand(obj, tokens, visited))))\n",
        "      else:\n",
        "        v, objs = _get_all_objs(v, is_pas)\n",
        "        for sub in subs:\n",
        "          if(len(objs) > 0):\n",
        "            for obj in objs:\n",
        "              objNegated = _is_negated(obj)\n",
        "              if(is_pas):  \n",
        "                svos.append((to_str(expand(obj, tokens, visited)),\"!\" + v.lemma_ if verbNegated or objNegated else v.lemma_, to_str(expand(sub, tokens, visited))))\n",
        "              else:\n",
        "                svos.append((to_str(expand(sub, tokens, visited)),\"!\" + v.lower_ if verbNegated or objNegated else v.lower_, to_str(expand(obj, tokens, visited))))\n",
        "          else:\n",
        "            svos.append((to_str(expand(sub, tokens, visited)),\"!\" + v.lower_ if verbNegated else v.lower_,))\n",
        "\n",
        "  return svos"
      ]
    },
    {
      "cell_type": "code",
      "execution_count": null,
      "metadata": {
        "id": "DfrrjcqhFdBh"
      },
      "outputs": [],
      "source": [
        "import en_core_web_sm"
      ]
    },
    {
      "cell_type": "code",
      "execution_count": null,
      "metadata": {
        "colab": {
          "base_uri": "https://localhost:8080/"
        },
        "id": "RddC0S4GEszA",
        "outputId": "fe8d6b1a-ee91-447d-c02f-fc8e976a5242"
      },
      "outputs": [
        {
          "name": "stdout",
          "output_type": "stream",
          "text": [
            "Looking in indexes: https://pypi.org/simple, https://us-python.pkg.dev/colab-wheels/public/simple/\n",
            "Collecting git+https://github.com/mmxgn/spacy-clausie.git\n",
            "  Cloning https://github.com/mmxgn/spacy-clausie.git to /tmp/pip-req-build-lf_w8fyr\n",
            "  Running command git clone -q https://github.com/mmxgn/spacy-clausie.git /tmp/pip-req-build-lf_w8fyr\n",
            "Requirement already satisfied: spacy>=3.0.0 in /usr/local/lib/python3.7/dist-packages (from claucy==0.0.2.0) (3.4.1)\n",
            "Collecting lemminflect>=0.2.1\n",
            "  Downloading lemminflect-0.2.2-py3-none-any.whl (769 kB)\n",
            "\u001b[K     |████████████████████████████████| 769 kB 4.8 MB/s \n",
            "\u001b[?25hRequirement already satisfied: numpy in /usr/local/lib/python3.7/dist-packages (from lemminflect>=0.2.1->claucy==0.0.2.0) (1.21.6)\n",
            "Requirement already satisfied: murmurhash<1.1.0,>=0.28.0 in /usr/local/lib/python3.7/dist-packages (from spacy>=3.0.0->claucy==0.0.2.0) (1.0.8)\n",
            "Requirement already satisfied: wasabi<1.1.0,>=0.9.1 in /usr/local/lib/python3.7/dist-packages (from spacy>=3.0.0->claucy==0.0.2.0) (0.10.1)\n",
            "Requirement already satisfied: requests<3.0.0,>=2.13.0 in /usr/local/lib/python3.7/dist-packages (from spacy>=3.0.0->claucy==0.0.2.0) (2.23.0)\n",
            "Requirement already satisfied: preshed<3.1.0,>=3.0.2 in /usr/local/lib/python3.7/dist-packages (from spacy>=3.0.0->claucy==0.0.2.0) (3.0.7)\n",
            "Requirement already satisfied: tqdm<5.0.0,>=4.38.0 in /usr/local/lib/python3.7/dist-packages (from spacy>=3.0.0->claucy==0.0.2.0) (4.64.0)\n",
            "Requirement already satisfied: setuptools in /usr/local/lib/python3.7/dist-packages (from spacy>=3.0.0->claucy==0.0.2.0) (57.4.0)\n",
            "Requirement already satisfied: langcodes<4.0.0,>=3.2.0 in /usr/local/lib/python3.7/dist-packages (from spacy>=3.0.0->claucy==0.0.2.0) (3.3.0)\n",
            "Requirement already satisfied: thinc<8.2.0,>=8.1.0 in /usr/local/lib/python3.7/dist-packages (from spacy>=3.0.0->claucy==0.0.2.0) (8.1.0)\n",
            "Requirement already satisfied: cymem<2.1.0,>=2.0.2 in /usr/local/lib/python3.7/dist-packages (from spacy>=3.0.0->claucy==0.0.2.0) (2.0.6)\n",
            "Requirement already satisfied: jinja2 in /usr/local/lib/python3.7/dist-packages (from spacy>=3.0.0->claucy==0.0.2.0) (2.11.3)\n",
            "Requirement already satisfied: catalogue<2.1.0,>=2.0.6 in /usr/local/lib/python3.7/dist-packages (from spacy>=3.0.0->claucy==0.0.2.0) (2.0.8)\n",
            "Requirement already satisfied: srsly<3.0.0,>=2.4.3 in /usr/local/lib/python3.7/dist-packages (from spacy>=3.0.0->claucy==0.0.2.0) (2.4.4)\n",
            "Requirement already satisfied: pydantic!=1.8,!=1.8.1,<1.10.0,>=1.7.4 in /usr/local/lib/python3.7/dist-packages (from spacy>=3.0.0->claucy==0.0.2.0) (1.9.2)\n",
            "Requirement already satisfied: pathy>=0.3.5 in /usr/local/lib/python3.7/dist-packages (from spacy>=3.0.0->claucy==0.0.2.0) (0.6.2)\n",
            "Requirement already satisfied: typing-extensions<4.2.0,>=3.7.4 in /usr/local/lib/python3.7/dist-packages (from spacy>=3.0.0->claucy==0.0.2.0) (4.1.1)\n",
            "Requirement already satisfied: spacy-loggers<2.0.0,>=1.0.0 in /usr/local/lib/python3.7/dist-packages (from spacy>=3.0.0->claucy==0.0.2.0) (1.0.3)\n",
            "Requirement already satisfied: typer<0.5.0,>=0.3.0 in /usr/local/lib/python3.7/dist-packages (from spacy>=3.0.0->claucy==0.0.2.0) (0.4.2)\n",
            "Requirement already satisfied: spacy-legacy<3.1.0,>=3.0.9 in /usr/local/lib/python3.7/dist-packages (from spacy>=3.0.0->claucy==0.0.2.0) (3.0.10)\n",
            "Requirement already satisfied: packaging>=20.0 in /usr/local/lib/python3.7/dist-packages (from spacy>=3.0.0->claucy==0.0.2.0) (21.3)\n",
            "Requirement already satisfied: zipp>=0.5 in /usr/local/lib/python3.7/dist-packages (from catalogue<2.1.0,>=2.0.6->spacy>=3.0.0->claucy==0.0.2.0) (3.8.1)\n",
            "Requirement already satisfied: pyparsing!=3.0.5,>=2.0.2 in /usr/local/lib/python3.7/dist-packages (from packaging>=20.0->spacy>=3.0.0->claucy==0.0.2.0) (3.0.9)\n",
            "Requirement already satisfied: smart-open<6.0.0,>=5.2.1 in /usr/local/lib/python3.7/dist-packages (from pathy>=0.3.5->spacy>=3.0.0->claucy==0.0.2.0) (5.2.1)\n",
            "Requirement already satisfied: urllib3!=1.25.0,!=1.25.1,<1.26,>=1.21.1 in /usr/local/lib/python3.7/dist-packages (from requests<3.0.0,>=2.13.0->spacy>=3.0.0->claucy==0.0.2.0) (1.24.3)\n",
            "Requirement already satisfied: certifi>=2017.4.17 in /usr/local/lib/python3.7/dist-packages (from requests<3.0.0,>=2.13.0->spacy>=3.0.0->claucy==0.0.2.0) (2022.6.15)\n",
            "Requirement already satisfied: chardet<4,>=3.0.2 in /usr/local/lib/python3.7/dist-packages (from requests<3.0.0,>=2.13.0->spacy>=3.0.0->claucy==0.0.2.0) (3.0.4)\n",
            "Requirement already satisfied: idna<3,>=2.5 in /usr/local/lib/python3.7/dist-packages (from requests<3.0.0,>=2.13.0->spacy>=3.0.0->claucy==0.0.2.0) (2.10)\n",
            "Requirement already satisfied: blis<0.8.0,>=0.7.8 in /usr/local/lib/python3.7/dist-packages (from thinc<8.2.0,>=8.1.0->spacy>=3.0.0->claucy==0.0.2.0) (0.7.8)\n",
            "Requirement already satisfied: click<9.0.0,>=7.1.1 in /usr/local/lib/python3.7/dist-packages (from typer<0.5.0,>=0.3.0->spacy>=3.0.0->claucy==0.0.2.0) (7.1.2)\n",
            "Requirement already satisfied: MarkupSafe>=0.23 in /usr/local/lib/python3.7/dist-packages (from jinja2->spacy>=3.0.0->claucy==0.0.2.0) (2.0.1)\n",
            "Building wheels for collected packages: claucy\n",
            "  Building wheel for claucy (setup.py) ... \u001b[?25l\u001b[?25hdone\n",
            "  Created wheel for claucy: filename=claucy-0.0.2.0-py3-none-any.whl size=7214 sha256=b3e1f55938667bb582f2ea6d24f81a081dabc0472e4b452699cbbe2ebd77d814\n",
            "  Stored in directory: /tmp/pip-ephem-wheel-cache-dtp4dk92/wheels/80/50/95/d1c36e8958570bf2e208899eba20671f8ada3c1e98deffe8f2\n",
            "Successfully built claucy\n",
            "Installing collected packages: lemminflect, claucy\n",
            "Successfully installed claucy-0.0.2.0 lemminflect-0.2.2\n"
          ]
        }
      ],
      "source": [
        "!pip install git+https://github.com/mmxgn/spacy-clausie.git\n",
        "import spacy\n",
        "import claucy"
      ]
    },
    {
      "cell_type": "code",
      "execution_count": null,
      "metadata": {
        "colab": {
          "base_uri": "https://localhost:8080/"
        },
        "id": "I5GKWRQXE9u4",
        "outputId": "2a65d995-0639-424b-cefb-b08fe78d021f"
      },
      "outputs": [
        {
          "name": "stdout",
          "output_type": "stream",
          "text": [
            "A command - line interface is available\n",
            "[('A line interface', 'is')]\n"
          ]
        }
      ],
      "source": [
        "nlp = en_core_web_sm.load()\n",
        "claucy.add_to_pipe(nlp)\n",
        "tok = nlp('A command-line interface is also available, especially aimed for managing SPHERE.IO user accounts and projects from a command-line shell.')\n",
        "#print(tok._.clauses)\n",
        "try:\n",
        "  propositions = tok._.clauses[0].to_propositions(as_text=True)\n",
        "except:\n",
        "  propositions = []\n",
        "print(propositions[0])\n",
        "svos = findSVOs(nlp(propositions[0]))\n",
        "print(svos)"
      ]
    },
    {
      "cell_type": "code",
      "execution_count": null,
      "metadata": {
        "id": "BObT2x1bcJKN"
      },
      "outputs": [],
      "source": [
        "import openpyxl\n",
        "wb = openpyxl.Workbook()\n",
        "sheet = wb.active\n",
        "sheet.title= 'svo'\n",
        "wb.save('svo.xlsx')\n",
        "wb = openpyxl.load_workbook('svo.xlsx')\n",
        "sheet = wb.active\n",
        "#sheet.cell(row=1, column=1).value = 'TEST'\n",
        "#wb.save('svo.xlsx')"
      ]
    },
    {
      "cell_type": "code",
      "execution_count": null,
      "metadata": {
        "id": "dkYPcy2w2XjN"
      },
      "outputs": [],
      "source": [
        "counters1=-1\n",
        "counters2=2\n",
        "sheet.cell(row=1,column=1).value = 'ID'\n",
        "sheet.cell(row=1,column=2).value = 'sentences'\n",
        "sheet.cell(row=1,column=3).value = 'subject'\n",
        "sheet.cell(row=1,column=4).value = 'verb'\n",
        "sheet.cell(row=1,column=5).value = 'object'\n",
        "wb.save('svo.xlsx')     "
      ]
    },
    {
      "cell_type": "code",
      "execution_count": null,
      "metadata": {
        "colab": {
          "base_uri": "https://localhost:8080/"
        },
        "id": "LTaO4c0aJdSA",
        "outputId": "1f715364-9e90-45e6-f523-9c9889e23bd6"
      },
      "outputs": [
        {
          "name": "stdout",
          "output_type": "stream",
          "text": [
            "2068\n"
          ]
        }
      ],
      "source": [
        "rows = df['comment_text']\n",
        "set_raw = list(rows[0:])\n",
        "results_svo=[]\n",
        "counters=0\n",
        "sheet = wb.active\n",
        "for tokens in set_raw:\n",
        "  counters1=counters1+1\n",
        "  #claucy.add_to_pipe(nlp)\n",
        "  tok = nlp(tokens)\n",
        "  if(len(tok._.clauses)>0):\n",
        "    #print(tok._.clauses)\n",
        "    try:\n",
        "      propositions = tok._.clauses[0].to_propositions(as_text=True)\n",
        "      for i in range(len(propositions)):\n",
        "        toks=nlp(propositions[i])\n",
        "        svos = findSVOs(toks)\n",
        "        for svo_result in svos:\n",
        "          #print(set_raw[counters1])\n",
        "          sheet.cell(row=counters2,column=1).value = counters1\n",
        "          sheet.cell(row=counters2,column=2).value = set_raw[counters1]\n",
        "          if(len(svo_result)>2):\n",
        "            sheet.cell(row=counters2,column=3).value = svo_result[0]\n",
        "            sheet.cell(row=counters2,column=4).value = svo_result[1]\n",
        "            sheet.cell(row=counters2,column=5).value = svo_result[2]\n",
        "          elif(len(svo_result)==2):\n",
        "            sheet.cell(row=counters2,column=3).value = svo_result[0]\n",
        "            sheet.cell(row=counters2,column=4).value = svo_result[1]\n",
        "          else:\n",
        "            sheet.cell(row=counters2,column=4).value = svo_result[0]\n",
        "          counters2=counters2+1\n",
        "    except:\n",
        "      toks=tok\n",
        "      svos = findSVOs(toks)\n",
        "      for svo_result in svos:\n",
        "        #print(set_raw[counters1])\n",
        "        sheet.cell(row=counters2,column=1).value = counters1\n",
        "        sheet.cell(row=counters2,column=2).value = set_raw[counters1]\n",
        "        if(len(svo_result)>2):\n",
        "          sheet.cell(row=counters2,column=3).value = svo_result[0]\n",
        "          sheet.cell(row=counters2,column=4).value = svo_result[1]\n",
        "          sheet.cell(row=counters2,column=5).value = svo_result[2]\n",
        "        elif(len(svo_result)==2):\n",
        "          sheet.cell(row=counters2,column=3).value = svo_result[0]\n",
        "          sheet.cell(row=counters2,column=4).value = svo_result[1]\n",
        "        else:\n",
        "          sheet.cell(row=counters2,column=4).value = svo_result[0]\n",
        "        counters2=counters2+1\n",
        "  else:\n",
        "    toks=tok\n",
        "    svos = findSVOs(toks)\n",
        "    for svo_result in svos:\n",
        "      #print(set_raw[counters1])\n",
        "      sheet.cell(row=counters2,column=1).value = counters1\n",
        "      sheet.cell(row=counters2,column=2).value = set_raw[counters1]\n",
        "      if(len(svo_result)>2):\n",
        "        sheet.cell(row=counters2,column=3).value = svo_result[0]\n",
        "        sheet.cell(row=counters2,column=4).value = svo_result[1]\n",
        "        sheet.cell(row=counters2,column=5).value = svo_result[2]\n",
        "      elif(len(svo_result)==2):\n",
        "        sheet.cell(row=counters2,column=3).value = svo_result[0]\n",
        "        sheet.cell(row=counters2,column=4).value = svo_result[1]\n",
        "      else:\n",
        "        sheet.cell(row=counters2,column=4).value = svo_result[0]\n",
        "      counters2=counters2+1\n",
        "  #print(counters)\n",
        "  if(svos==[]):\n",
        "    svos=[('fill','fill')]\n",
        "    svos = findSVOs(toks)\n",
        "    for svo_result in svos:\n",
        "      #print(set_raw[counters1])\n",
        "      sheet.cell(row=counters2,column=1).value = counters1\n",
        "      sheet.cell(row=counters2,column=2).value = set_raw[counters1]\n",
        "      if(len(svo_result)>2):\n",
        "        sheet.cell(row=counters2,column=3).value = svo_result[0]\n",
        "        sheet.cell(row=counters2,column=4).value = svo_result[1]\n",
        "        sheet.cell(row=counters2,column=5).value = svo_result[2]\n",
        "      elif(len(svo_result)==2):\n",
        "        sheet.cell(row=counters2,column=3).value = svo_result[0]\n",
        "        sheet.cell(row=counters2,column=4).value = svo_result[1]\n",
        "      else:\n",
        "        sheet.cell(row=counters2,column=4).value = svo_result[0]\n",
        "      counters2=counters2+1\n",
        "  results_svo.append(svos)\n",
        "  counters=counters+1\n",
        "wb.save('svo.xlsx')\n",
        "print(counters)"
      ]
    },
    {
      "cell_type": "code",
      "execution_count": null,
      "metadata": {
        "colab": {
          "base_uri": "https://localhost:8080/"
        },
        "id": "kNeSc6Lyl6pi",
        "outputId": "f5099160-fb95-4ed8-c39c-07094c88e425"
      },
      "outputs": [
        {
          "name": "stdout",
          "output_type": "stream",
          "text": [
            "3692\n"
          ]
        }
      ],
      "source": [
        "print(counters2)"
      ]
    },
    {
      "cell_type": "code",
      "execution_count": null,
      "metadata": {
        "id": "hPJZpLrNk7V5"
      },
      "outputs": [],
      "source": [
        "temp=''\n",
        "temp_counter=0\n",
        "temp1=''\n",
        "temp_counter1=0\n",
        "for i in range(1,counters2-1):\n",
        "  cell1=sheet.cell(i+1,3).value\n",
        "  cell2=sheet.cell(i+1,5).value\n",
        "  tok = nlp(cell1)\n",
        "  for doc in tok:\n",
        "    #print(doc.pos_)\n",
        "    if(doc.pos_ == 'NOUN'):\n",
        "      if(temp_counter==0):\n",
        "        temp=temp+str(doc)\n",
        "        temp_counter=temp_counter+1\n",
        "      else:\n",
        "        temp=temp+' '+str(doc)\n",
        "        temp_counter=temp_counter+1\n",
        "  if(temp!=''):\n",
        "    sheet.cell(i+1,3).value=temp\n",
        "  #print(temp)\n",
        "  temp=''\n",
        "  temp_counter=0\n",
        "  if(cell2!=None):\n",
        "    tok1 = nlp(cell2)\n",
        "    for doc1 in tok1:\n",
        "      #print(doc1.pos_)\n",
        "      if(doc1.pos_ == 'NOUN'):\n",
        "        if(temp_counter1==0):\n",
        "          temp1=temp1+str(doc1)\n",
        "          temp_counter1=temp_counter1+1\n",
        "        else:\n",
        "          temp1=temp1+' '+str(doc1)\n",
        "          temp_counter1=temp_counter1+1\n",
        "    if(temp1!=''):\n",
        "      sheet.cell(i+1,5).value=temp1\n",
        "  #print(temp1)\n",
        "  temp1=''\n",
        "  temp_counter1=0\n"
      ]
    },
    {
      "cell_type": "code",
      "execution_count": null,
      "metadata": {
        "id": "EDBrOz4PtlBf"
      },
      "outputs": [],
      "source": [
        "wb.save('svo.xlsx')"
      ]
    },
    {
      "cell_type": "code",
      "execution_count": null,
      "metadata": {
        "colab": {
          "base_uri": "https://localhost:8080/",
          "height": 17
        },
        "id": "kn5vtyRvdWuR",
        "outputId": "bc322599-f6c7-49f0-bb9c-302d2dbd641e"
      },
      "outputs": [
        {
          "data": {
            "application/javascript": "\n    async function download(id, filename, size) {\n      if (!google.colab.kernel.accessAllowed) {\n        return;\n      }\n      const div = document.createElement('div');\n      const label = document.createElement('label');\n      label.textContent = `Downloading \"${filename}\": `;\n      div.appendChild(label);\n      const progress = document.createElement('progress');\n      progress.max = size;\n      div.appendChild(progress);\n      document.body.appendChild(div);\n\n      const buffers = [];\n      let downloaded = 0;\n\n      const channel = await google.colab.kernel.comms.open(id);\n      // Send a message to notify the kernel that we're ready.\n      channel.send({})\n\n      for await (const message of channel.messages) {\n        // Send a message to notify the kernel that we're ready.\n        channel.send({})\n        if (message.buffers) {\n          for (const buffer of message.buffers) {\n            buffers.push(buffer);\n            downloaded += buffer.byteLength;\n            progress.value = downloaded;\n          }\n        }\n      }\n      const blob = new Blob(buffers, {type: 'application/binary'});\n      const a = document.createElement('a');\n      a.href = window.URL.createObjectURL(blob);\n      a.download = filename;\n      div.appendChild(a);\n      a.click();\n      div.remove();\n    }\n  ",
            "text/plain": [
              "<IPython.core.display.Javascript object>"
            ]
          },
          "metadata": {},
          "output_type": "display_data"
        },
        {
          "data": {
            "application/javascript": "download(\"download_8d56ae94-886e-445a-b815-0211d5690c9d\", \"svo.xlsx\", 211284)",
            "text/plain": [
              "<IPython.core.display.Javascript object>"
            ]
          },
          "metadata": {},
          "output_type": "display_data"
        }
      ],
      "source": [
        "from google.colab import files\n",
        "files.download('svo.xlsx')"
      ]
    },
    {
      "cell_type": "markdown",
      "metadata": {
        "id": "FM83JyjwN8Gs"
      },
      "source": [
        "![word.png](data:image/png;base64,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)"
      ]
    },
    {
      "cell_type": "code",
      "execution_count": null,
      "metadata": {
        "colab": {
          "base_uri": "https://localhost:8080/"
        },
        "id": "-WNcqz1kl2nX",
        "outputId": "aa078802-0238-4c05-ca5d-9dd757783c49"
      },
      "outputs": [
        {
          "name": "stdout",
          "output_type": "stream",
          "text": [
            "sentence number: 1\n",
            "sentence number: 2\n",
            "sentence number: 3\n",
            "sentence number: 4\n",
            "secondary ORDINAL\n",
            "sentence number: 5\n",
            "sentence number: 6\n",
            "sentence number: 7\n",
            "sentence number: 8\n",
            "sentence number: 9\n",
            "sentence number: 10\n",
            "sentence number: 11\n",
            "sentence number: 12\n",
            "sentence number: 13\n",
            "sentence number: 14\n",
            "52 CARDINAL\n",
            "sentence number: 15\n",
            "sentence number: 16\n",
            "sentence number: 17\n",
            "first ORDINAL\n",
            "sentence number: 18\n",
            "sentence number: 19\n",
            "nova LOC\n",
            "sentence number: 20\n",
            "sentence number: 21\n",
            "sentence number: 22\n",
            "sentence number: 23\n",
            "sentence number: 24\n",
            "sentence number: 25\n",
            "1 CARDINAL\n",
            "nova LOC\n",
            "sentence number: 26\n",
            "sentence number: 27\n",
            "first ORDINAL\n",
            "two CARDINAL\n",
            "sentence number: 28\n",
            "sentence number: 29\n",
            "sentence number: 30\n",
            "sentence number: 31\n",
            "sentence number: 32\n",
            "sentence number: 33\n",
            "sentence number: 34\n",
            "sentence number: 35\n",
            "sentence number: 36\n",
            "sentence number: 37\n",
            "sentence number: 38\n",
            "sentence number: 39\n",
            "sentence number: 40\n",
            "sentence number: 41\n",
            "one CARDINAL\n",
            "sentence number: 42\n",
            "1 CARDINAL\n",
            "sentence number: 43\n",
            "sentence number: 44\n",
            "sentence number: 45\n",
            "sentence number: 46\n",
            "sentence number: 47\n",
            "sentence number: 48\n",
            "first ORDINAL\n",
            "sentence number: 49\n",
            "sentence number: 50\n",
            "sentence number: 51\n",
            "sentence number: 52\n",
            "sentence number: 53\n",
            "sentence number: 54\n",
            "sentence number: 55\n",
            "two CARDINAL\n",
            "sentence number: 56\n",
            "sentence number: 57\n",
            "two CARDINAL\n",
            "52 CARDINAL\n",
            "sentence number: 58\n",
            "one CARDINAL\n",
            "one CARDINAL\n",
            "sentence number: 59\n",
            "sentence number: 60\n",
            "sentence number: 61\n",
            "1 CARDINAL\n",
            "sentence number: 62\n",
            "sentence number: 63\n",
            "sentence number: 64\n",
            "sentence number: 65\n",
            "sentence number: 66\n",
            "sentence number: 67\n",
            "sentence number: 68\n",
            "78 CARDINAL\n",
            "sentence number: 69\n",
            "sentence number: 70\n",
            "sentence number: 71\n",
            "sentence number: 72\n",
            "sentence number: 73\n",
            "sentence number: 74\n",
            "sentence number: 75\n",
            "sentence number: 76\n",
            "sentence number: 77\n",
            "1 CARDINAL\n",
            "sentence number: 78\n",
            "one CARDINAL\n",
            "sentence number: 79\n",
            "sentence number: 80\n",
            "sentence number: 81\n",
            "sentence number: 82\n",
            "sentence number: 83\n",
            "sentence number: 84\n",
            "sentence number: 85\n",
            "sentence number: 86\n",
            "sentence number: 87\n",
            "sentence number: 88\n",
            "sentence number: 89\n",
            "sentence number: 90\n",
            "sentence number: 91\n",
            "sentence number: 92\n",
            "sentence number: 93\n",
            "sentence number: 94\n",
            "sentence number: 95\n",
            "sentence number: 96\n",
            "sentence number: 97\n",
            "sentence number: 98\n",
            "sentence number: 99\n",
            "sentence number: 100\n"
          ]
        }
      ],
      "source": [
        "import spacy\n",
        "eng_model = spacy.load(\"en_core_web_sm\")\n",
        "rows = df['comment_text']\n",
        "sentences_original = list(rows[0:100])\n",
        "new_list=list()\n",
        "sent1=''\n",
        "number=0\n",
        "for sent in sentences_original:\n",
        "  sentences_extract = eng_model(sent)\n",
        "  for ent in sentences_extract.ents:\n",
        "    print(ent,ent.label_)\n",
        "    sent1=''.join(sent.split(str(ent)))\n",
        "  number=number+1\n",
        "  print(\"sentence number:\",number)\n",
        "  new_list.append(sent1)\n",
        "#print(new_list[0:4])\n",
        "#df['comment_text'] = new_list\n",
        "#print('sentence columns: ', sentences_original)"
      ]
    },
    {
      "cell_type": "code",
      "execution_count": null,
      "metadata": {
        "colab": {
          "base_uri": "https://localhost:8080/"
        },
        "id": "OkKpz_9eJRt7",
        "outputId": "4ecd2e95-c6a1-4731-c6f8-e0c38ceb9914"
      },
      "outputs": [
        {
          "name": "stdout",
          "output_type": "stream",
          "text": [
            "average sentence length:  20.959381044487426\n",
            "stdev sentence length:  11.620648506079869\n"
          ]
        }
      ],
      "source": [
        "print('average sentence length: ', df.comment_text.str.split().str.len().mean())\n",
        "print('stdev sentence length: ', df.comment_text.str.split().str.len().std())"
      ]
    },
    {
      "cell_type": "code",
      "execution_count": null,
      "metadata": {
        "colab": {
          "base_uri": "https://localhost:8080/"
        },
        "id": "UVI59S9VaAfB",
        "outputId": "1c9281eb-0ed4-4edd-f7c8-3e0f1a5eee84"
      },
      "outputs": [
        {
          "name": "stdout",
          "output_type": "stream",
          "text": [
            "Label columns:  ['implementation', 'architecture', 'requirements', 'application_domain_knowledge', 'execution_platform', 'design', 'structure', 'behavior', 'data_model_information', 'development_process_tools', 'user_interface']\n"
          ]
        }
      ],
      "source": [
        "cols = df.columns\n",
        "label_cols = list(cols[2:])\n",
        "num_labels = len(label_cols)\n",
        "print('Label columns: ', label_cols)"
      ]
    },
    {
      "cell_type": "code",
      "execution_count": null,
      "metadata": {
        "colab": {
          "base_uri": "https://localhost:8080/"
        },
        "id": "xzgA5qQgYIBZ",
        "outputId": "4f9c3520-1fbf-4d36-d8c6-6003ab569355"
      },
      "outputs": [
        {
          "name": "stdout",
          "output_type": "stream",
          "text": [
            "Count of 1 per label: \n",
            " implementation                  339\n",
            "architecture                    184\n",
            "requirements                    480\n",
            "application_domain_knowledge     70\n",
            "execution_platform              118\n",
            "design                          106\n",
            "structure                       152\n",
            "behavior                        666\n",
            "data_model_information           12\n",
            "development_process_tools        81\n",
            "user_interface                   95\n",
            "dtype: int64 \n",
            "\n",
            "Count of 0 per label: \n",
            " implementation                  1729\n",
            "architecture                    1884\n",
            "requirements                    1588\n",
            "application_domain_knowledge    1998\n",
            "execution_platform              1950\n",
            "design                          1962\n",
            "structure                       1916\n",
            "behavior                        1402\n",
            "data_model_information          2056\n",
            "development_process_tools       1987\n",
            "user_interface                  1973\n",
            "dtype: int64\n"
          ]
        }
      ],
      "source": [
        "print('Count of 1 per label: \\n', df[label_cols].sum(), '\\n') # Label counts, may need to downsample or upsample\n",
        "print('Count of 0 per label: \\n', df[label_cols].eq(0).sum())"
      ]
    },
    {
      "cell_type": "code",
      "execution_count": null,
      "metadata": {
        "id": "uFpSd4JzaAae"
      },
      "outputs": [],
      "source": [
        "df = df.sample(frac=1).reset_index(drop=True) #shuffle rows"
      ]
    },
    {
      "cell_type": "code",
      "execution_count": null,
      "metadata": {
        "colab": {
          "base_uri": "https://localhost:8080/",
          "height": 565
        },
        "id": "0DF3ddjej5vd",
        "outputId": "16ad3a59-c1e4-418a-8eea-ef86e1bb0ced"
      },
      "outputs": [
        {
          "data": {
            "text/html": [
              "\n",
              "  <div id=\"df-8ed3359c-3b76-497c-a8ba-cee6f3d4b949\">\n",
              "    <div class=\"colab-df-container\">\n",
              "      <div>\n",
              "<style scoped>\n",
              "    .dataframe tbody tr th:only-of-type {\n",
              "        vertical-align: middle;\n",
              "    }\n",
              "\n",
              "    .dataframe tbody tr th {\n",
              "        vertical-align: top;\n",
              "    }\n",
              "\n",
              "    .dataframe thead th {\n",
              "        text-align: right;\n",
              "    }\n",
              "</style>\n",
              "<table border=\"1\" class=\"dataframe\">\n",
              "  <thead>\n",
              "    <tr style=\"text-align: right;\">\n",
              "      <th></th>\n",
              "      <th>id</th>\n",
              "      <th>comment_text</th>\n",
              "      <th>implementation</th>\n",
              "      <th>architecture</th>\n",
              "      <th>requirements</th>\n",
              "      <th>application_domain_knowledge</th>\n",
              "      <th>execution_platform</th>\n",
              "      <th>design</th>\n",
              "      <th>structure</th>\n",
              "      <th>behavior</th>\n",
              "      <th>data_model_information</th>\n",
              "      <th>development_process_tools</th>\n",
              "      <th>user_interface</th>\n",
              "      <th>one_hot_labels</th>\n",
              "    </tr>\n",
              "  </thead>\n",
              "  <tbody>\n",
              "    <tr>\n",
              "      <th>0</th>\n",
              "      <td>111</td>\n",
              "      <td>supplier capabilities: alignment with the (mec...</td>\n",
              "      <td>0</td>\n",
              "      <td>0</td>\n",
              "      <td>0</td>\n",
              "      <td>0</td>\n",
              "      <td>0</td>\n",
              "      <td>0</td>\n",
              "      <td>0</td>\n",
              "      <td>1</td>\n",
              "      <td>0</td>\n",
              "      <td>0</td>\n",
              "      <td>0</td>\n",
              "      <td>[0, 0, 0, 0, 0, 0, 0, 1, 0, 0, 0]</td>\n",
              "    </tr>\n",
              "    <tr>\n",
              "      <th>1</th>\n",
              "      <td>586</td>\n",
              "      <td>Especially for wind tunnels that are in high d...</td>\n",
              "      <td>0</td>\n",
              "      <td>0</td>\n",
              "      <td>1</td>\n",
              "      <td>0</td>\n",
              "      <td>0</td>\n",
              "      <td>0</td>\n",
              "      <td>0</td>\n",
              "      <td>0</td>\n",
              "      <td>0</td>\n",
              "      <td>0</td>\n",
              "      <td>0</td>\n",
              "      <td>[0, 0, 1, 0, 0, 0, 0, 0, 0, 0, 0]</td>\n",
              "    </tr>\n",
              "    <tr>\n",
              "      <th>2</th>\n",
              "      <td>1920</td>\n",
              "      <td>The query language XPath is used to select the...</td>\n",
              "      <td>1</td>\n",
              "      <td>0</td>\n",
              "      <td>0</td>\n",
              "      <td>0</td>\n",
              "      <td>1</td>\n",
              "      <td>0</td>\n",
              "      <td>0</td>\n",
              "      <td>0</td>\n",
              "      <td>0</td>\n",
              "      <td>0</td>\n",
              "      <td>0</td>\n",
              "      <td>[1, 0, 0, 0, 1, 0, 0, 0, 0, 0, 0]</td>\n",
              "    </tr>\n",
              "    <tr>\n",
              "      <th>3</th>\n",
              "      <td>881</td>\n",
              "      <td>However, it is advised that they do monitor ac...</td>\n",
              "      <td>0</td>\n",
              "      <td>0</td>\n",
              "      <td>1</td>\n",
              "      <td>0</td>\n",
              "      <td>0</td>\n",
              "      <td>0</td>\n",
              "      <td>0</td>\n",
              "      <td>1</td>\n",
              "      <td>0</td>\n",
              "      <td>0</td>\n",
              "      <td>0</td>\n",
              "      <td>[0, 0, 1, 0, 0, 0, 0, 1, 0, 0, 0]</td>\n",
              "    </tr>\n",
              "    <tr>\n",
              "      <th>4</th>\n",
              "      <td>2041</td>\n",
              "      <td>As a registered customer, I want to remove a p...</td>\n",
              "      <td>0</td>\n",
              "      <td>0</td>\n",
              "      <td>1</td>\n",
              "      <td>0</td>\n",
              "      <td>0</td>\n",
              "      <td>0</td>\n",
              "      <td>0</td>\n",
              "      <td>0</td>\n",
              "      <td>0</td>\n",
              "      <td>0</td>\n",
              "      <td>0</td>\n",
              "      <td>[0, 0, 1, 0, 0, 0, 0, 0, 0, 0, 0]</td>\n",
              "    </tr>\n",
              "  </tbody>\n",
              "</table>\n",
              "</div>\n",
              "      <button class=\"colab-df-convert\" onclick=\"convertToInteractive('df-8ed3359c-3b76-497c-a8ba-cee6f3d4b949')\"\n",
              "              title=\"Convert this dataframe to an interactive table.\"\n",
              "              style=\"display:none;\">\n",
              "        \n",
              "  <svg xmlns=\"http://www.w3.org/2000/svg\" height=\"24px\"viewBox=\"0 0 24 24\"\n",
              "       width=\"24px\">\n",
              "    <path d=\"M0 0h24v24H0V0z\" fill=\"none\"/>\n",
              "    <path d=\"M18.56 5.44l.94 2.06.94-2.06 2.06-.94-2.06-.94-.94-2.06-.94 2.06-2.06.94zm-11 1L8.5 8.5l.94-2.06 2.06-.94-2.06-.94L8.5 2.5l-.94 2.06-2.06.94zm10 10l.94 2.06.94-2.06 2.06-.94-2.06-.94-.94-2.06-.94 2.06-2.06.94z\"/><path d=\"M17.41 7.96l-1.37-1.37c-.4-.4-.92-.59-1.43-.59-.52 0-1.04.2-1.43.59L10.3 9.45l-7.72 7.72c-.78.78-.78 2.05 0 2.83L4 21.41c.39.39.9.59 1.41.59.51 0 1.02-.2 1.41-.59l7.78-7.78 2.81-2.81c.8-.78.8-2.07 0-2.86zM5.41 20L4 18.59l7.72-7.72 1.47 1.35L5.41 20z\"/>\n",
              "  </svg>\n",
              "      </button>\n",
              "      \n",
              "  <style>\n",
              "    .colab-df-container {\n",
              "      display:flex;\n",
              "      flex-wrap:wrap;\n",
              "      gap: 12px;\n",
              "    }\n",
              "\n",
              "    .colab-df-convert {\n",
              "      background-color: #E8F0FE;\n",
              "      border: none;\n",
              "      border-radius: 50%;\n",
              "      cursor: pointer;\n",
              "      display: none;\n",
              "      fill: #1967D2;\n",
              "      height: 32px;\n",
              "      padding: 0 0 0 0;\n",
              "      width: 32px;\n",
              "    }\n",
              "\n",
              "    .colab-df-convert:hover {\n",
              "      background-color: #E2EBFA;\n",
              "      box-shadow: 0px 1px 2px rgba(60, 64, 67, 0.3), 0px 1px 3px 1px rgba(60, 64, 67, 0.15);\n",
              "      fill: #174EA6;\n",
              "    }\n",
              "\n",
              "    [theme=dark] .colab-df-convert {\n",
              "      background-color: #3B4455;\n",
              "      fill: #D2E3FC;\n",
              "    }\n",
              "\n",
              "    [theme=dark] .colab-df-convert:hover {\n",
              "      background-color: #434B5C;\n",
              "      box-shadow: 0px 1px 3px 1px rgba(0, 0, 0, 0.15);\n",
              "      filter: drop-shadow(0px 1px 2px rgba(0, 0, 0, 0.3));\n",
              "      fill: #FFFFFF;\n",
              "    }\n",
              "  </style>\n",
              "\n",
              "      <script>\n",
              "        const buttonEl =\n",
              "          document.querySelector('#df-8ed3359c-3b76-497c-a8ba-cee6f3d4b949 button.colab-df-convert');\n",
              "        buttonEl.style.display =\n",
              "          google.colab.kernel.accessAllowed ? 'block' : 'none';\n",
              "\n",
              "        async function convertToInteractive(key) {\n",
              "          const element = document.querySelector('#df-8ed3359c-3b76-497c-a8ba-cee6f3d4b949');\n",
              "          const dataTable =\n",
              "            await google.colab.kernel.invokeFunction('convertToInteractive',\n",
              "                                                     [key], {});\n",
              "          if (!dataTable) return;\n",
              "\n",
              "          const docLinkHtml = 'Like what you see? Visit the ' +\n",
              "            '<a target=\"_blank\" href=https://colab.research.google.com/notebooks/data_table.ipynb>data table notebook</a>'\n",
              "            + ' to learn more about interactive tables.';\n",
              "          element.innerHTML = '';\n",
              "          dataTable['output_type'] = 'display_data';\n",
              "          await google.colab.output.renderOutput(dataTable, element);\n",
              "          const docLink = document.createElement('div');\n",
              "          docLink.innerHTML = docLinkHtml;\n",
              "          element.appendChild(docLink);\n",
              "        }\n",
              "      </script>\n",
              "    </div>\n",
              "  </div>\n",
              "  "
            ],
            "text/plain": [
              "     id                                       comment_text  implementation  \\\n",
              "0   111  supplier capabilities: alignment with the (mec...               0   \n",
              "1   586  Especially for wind tunnels that are in high d...               0   \n",
              "2  1920  The query language XPath is used to select the...               1   \n",
              "3   881  However, it is advised that they do monitor ac...               0   \n",
              "4  2041  As a registered customer, I want to remove a p...               0   \n",
              "\n",
              "   architecture  requirements  application_domain_knowledge  \\\n",
              "0             0             0                             0   \n",
              "1             0             1                             0   \n",
              "2             0             0                             0   \n",
              "3             0             1                             0   \n",
              "4             0             1                             0   \n",
              "\n",
              "   execution_platform  design  structure  behavior  data_model_information  \\\n",
              "0                   0       0          0         1                       0   \n",
              "1                   0       0          0         0                       0   \n",
              "2                   1       0          0         0                       0   \n",
              "3                   0       0          0         1                       0   \n",
              "4                   0       0          0         0                       0   \n",
              "\n",
              "   development_process_tools  user_interface  \\\n",
              "0                          0               0   \n",
              "1                          0               0   \n",
              "2                          0               0   \n",
              "3                          0               0   \n",
              "4                          0               0   \n",
              "\n",
              "                      one_hot_labels  \n",
              "0  [0, 0, 0, 0, 0, 0, 0, 1, 0, 0, 0]  \n",
              "1  [0, 0, 1, 0, 0, 0, 0, 0, 0, 0, 0]  \n",
              "2  [1, 0, 0, 0, 1, 0, 0, 0, 0, 0, 0]  \n",
              "3  [0, 0, 1, 0, 0, 0, 0, 1, 0, 0, 0]  \n",
              "4  [0, 0, 1, 0, 0, 0, 0, 0, 0, 0, 0]  "
            ]
          },
          "execution_count": 19,
          "metadata": {},
          "output_type": "execute_result"
        }
      ],
      "source": [
        "df['one_hot_labels'] = list(df[label_cols].values)\n",
        "df.head()"
      ]
    },
    {
      "cell_type": "code",
      "execution_count": null,
      "metadata": {
        "id": "MlhHifh5bW7e"
      },
      "outputs": [],
      "source": [
        "labels = list(df.one_hot_labels.values)\n",
        "comments = list(df.comment_text.values)"
      ]
    },
    {
      "cell_type": "markdown",
      "metadata": {
        "id": "IlMHfElhGJzc"
      },
      "source": [
        "Load the pretrained tokenizer that corresponds to your choice in model. e.g.,\n",
        "\n",
        "```\n",
        "BERT:\n",
        "tokenizer = BertTokenizer.from_pretrained('bert-base-uncased', do_lower_case=True) \n",
        "\n",
        "XLNet:\n",
        "tokenizer = XLNetTokenizer.from_pretrained('xlnet-base-cased', do_lower_case=False) \n",
        "\n",
        "RoBERTa:\n",
        "tokenizer = RobertaTokenizer.from_pretrained('roberta-base', do_lower_case=False)\n",
        "```\n"
      ]
    },
    {
      "cell_type": "markdown",
      "metadata": {
        "id": "IhVr8SziL_PY"
      },
      "source": [
        "In order to avoid memory issues with Google Colab, I enforce a max_length of 100 tokens. Note that some sentences may not adequately represent each label because of this."
      ]
    },
    {
      "cell_type": "code",
      "execution_count": null,
      "metadata": {
        "colab": {
          "base_uri": "https://localhost:8080/",
          "height": 206,
          "referenced_widgets": [
            "2aaf1dd5ad834241bd2d366b1d262fa2",
            "91ea1852e3d24effb90d55b18f707728",
            "9a331ff6f2e24844af8478b58188b853",
            "f4bdccf538714dbda0a29cabe63e5970",
            "90a3180d2b8c4ea78463bdb2d6306eba",
            "6c341df888ea44ba88a96b5c8aabf0af",
            "6806488b9a4543baa36ae394d61eaa52",
            "775a2fe7d8244cf0bb940e68a160c086",
            "750e10225f404b46bd4a830aa6ba2eaa",
            "1cd934b794f34a9ab49976c950ec4783",
            "b9916d50fcfc4266a145d0021500a1db",
            "d59f46959c824951a46ca7b37123cea5",
            "f322d21ef49040008701e23b22d2b347",
            "94b5bad94da74e0ebbe65de86eda23b9",
            "7e27bceb50af4f36a761a0968afd24bf",
            "9050bbd012cf49a28e71cd5ad0cfcd17",
            "943092d7f21b46f0b76c30699251457d",
            "61b114927a8f454abf9e628549b90db2",
            "deb7da40c4f54a2dbe472e815cc56ecc",
            "972f3f1bc14948548ea8a91e5ec841e1",
            "4cda06daf2b34361bab715e73dc504f8",
            "8ef5874e3ac942f489747681ee902b4f",
            "20b40533fc514b99918143121bafe287",
            "199746b6826a4814896bba7dd8f7c38b",
            "a047b39beda24a96a012e77edada5fa6",
            "b83d96c05c1241218ac000aca67047bd",
            "4fa92c5acaab465a9689b715cb38f212",
            "34ec92699fc84c25a9ddfad9db81c229",
            "5aa3e38ebcd44ae6915ef0dc39850c42",
            "522925768298438e9ed26f129fd0f4c2",
            "99ac979fc832430cbf18a5756b5a6df1",
            "964dc6aaa90641aa831640f5f90c2d2d",
            "24fcc4c5bff24d97a5a2eb9dc4a0fb15"
          ]
        },
        "id": "HNsEu-vUur-4",
        "outputId": "b967c84e-be8a-47f4-f8b5-36edde66a3d5"
      },
      "outputs": [
        {
          "data": {
            "application/vnd.jupyter.widget-view+json": {
              "model_id": "2aaf1dd5ad834241bd2d366b1d262fa2",
              "version_major": 2,
              "version_minor": 0
            },
            "text/plain": [
              "Downloading:   0%|          | 0.00/226k [00:00<?, ?B/s]"
            ]
          },
          "metadata": {},
          "output_type": "display_data"
        },
        {
          "data": {
            "application/vnd.jupyter.widget-view+json": {
              "model_id": "d59f46959c824951a46ca7b37123cea5",
              "version_major": 2,
              "version_minor": 0
            },
            "text/plain": [
              "Downloading:   0%|          | 0.00/28.0 [00:00<?, ?B/s]"
            ]
          },
          "metadata": {},
          "output_type": "display_data"
        },
        {
          "data": {
            "application/vnd.jupyter.widget-view+json": {
              "model_id": "20b40533fc514b99918143121bafe287",
              "version_major": 2,
              "version_minor": 0
            },
            "text/plain": [
              "Downloading:   0%|          | 0.00/570 [00:00<?, ?B/s]"
            ]
          },
          "metadata": {},
          "output_type": "display_data"
        },
        {
          "name": "stderr",
          "output_type": "stream",
          "text": [
            "Truncation was not explicitly activated but `max_length` is provided a specific value, please use `truncation=True` to explicitly truncate examples to max length. Defaulting to 'longest_first' truncation strategy. If you encode pairs of sequences (GLUE-style) with the tokenizer you can select this strategy more precisely by providing a specific strategy to `truncation`.\n",
            "/usr/local/lib/python3.7/dist-packages/transformers/tokenization_utils_base.py:2307: FutureWarning: The `pad_to_max_length` argument is deprecated and will be removed in a future version, use `padding=True` or `padding='longest'` to pad to the longest sequence in the batch, or use `padding='max_length'` to pad to a max length. In this case, you can give a specific length with `max_length` (e.g. `max_length=45`) or leave max_length to None to pad to the maximal input size of the model (e.g. 512 for Bert).\n",
            "  FutureWarning,\n"
          ]
        },
        {
          "name": "stdout",
          "output_type": "stream",
          "text": [
            "tokenizer outputs:  dict_keys(['input_ids', 'token_type_ids', 'attention_mask'])\n"
          ]
        }
      ],
      "source": [
        "from transformers import BertTokenizer, BertForMaskedLM\n",
        "max_length = 100\n",
        "tokenizer = BertTokenizer.from_pretrained('bert-base-uncased', do_lower_case=True) # tokenizer\n",
        "encodings = tokenizer.batch_encode_plus(comments,max_length=max_length,pad_to_max_length=True) # tokenizer's encoding method\n",
        "print('tokenizer outputs: ', encodings.keys())"
      ]
    },
    {
      "cell_type": "code",
      "execution_count": null,
      "metadata": {
        "id": "l6CCLSjfur-9"
      },
      "outputs": [],
      "source": [
        "input_ids = encodings['input_ids'] # tokenized and encoded sentences\n",
        "token_type_ids = encodings['token_type_ids'] # token type ids\n",
        "attention_masks = encodings['attention_mask'] # attention masks\n",
        "#print(attention_masks)"
      ]
    },
    {
      "cell_type": "code",
      "execution_count": null,
      "metadata": {
        "colab": {
          "base_uri": "https://localhost:8080/"
        },
        "id": "vSOFbThlYcpb",
        "outputId": "4cd32c06-9658-4ec9-d68a-8761b3524b3a"
      },
      "outputs": [
        {
          "name": "stdout",
          "output_type": "stream",
          "text": [
            "df label indices with only one instance:  [1623, 933, 647]\n"
          ]
        }
      ],
      "source": [
        "# Identifying indices of 'one_hot_labels' entries that only occur once - this will allow us to stratify split our training data later\n",
        "label_counts = df.one_hot_labels.astype(str).value_counts()\n",
        "one_freq = label_counts[label_counts==1].keys()\n",
        "one_freq_idxs = sorted(list(df[df.one_hot_labels.astype(str).isin(one_freq)].index), reverse=True)\n",
        "print('df label indices with only one instance: ', one_freq_idxs)"
      ]
    },
    {
      "cell_type": "code",
      "execution_count": null,
      "metadata": {
        "id": "CQQ7CoOag_r7"
      },
      "outputs": [],
      "source": [
        "# Gathering single instance inputs to force into the training set after stratified split\n",
        "one_freq_input_ids = [input_ids.pop(i) for i in one_freq_idxs]\n",
        "one_freq_token_types = [token_type_ids.pop(i) for i in one_freq_idxs]\n",
        "one_freq_attention_masks = [attention_masks.pop(i) for i in one_freq_idxs]\n",
        "one_freq_labels = [labels.pop(i) for i in one_freq_idxs]"
      ]
    },
    {
      "cell_type": "markdown",
      "metadata": {
        "id": "r9PxAt48HRRj"
      },
      "source": [
        "Be sure to handle all classes during validation using \"stratify\" during train/validation split:"
      ]
    },
    {
      "cell_type": "code",
      "execution_count": null,
      "metadata": {
        "colab": {
          "base_uri": "https://localhost:8080/"
        },
        "id": "WPFaq4ufnIT2",
        "outputId": "959a6229-23b6-4e9c-92fd-b122dbfc8fa0"
      },
      "outputs": [
        {
          "name": "stderr",
          "output_type": "stream",
          "text": [
            "/usr/local/lib/python3.7/dist-packages/ipykernel_launcher.py:14: UserWarning: Creating a tensor from a list of numpy.ndarrays is extremely slow. Please consider converting the list to a single numpy.ndarray with numpy.array() before converting to a tensor. (Triggered internally at  ../torch/csrc/utils/tensor_new.cpp:201.)\n",
            "  \n"
          ]
        }
      ],
      "source": [
        "# Use train_test_split to split our data into train and validation sets\n",
        "\n",
        "train_inputs, validation_inputs, train_labels, validation_labels, train_token_types, validation_token_types, train_masks, validation_masks = train_test_split(input_ids, labels, token_type_ids,attention_masks,\n",
        "                                                            random_state=2020, test_size=0.10, stratify = labels)\n",
        "\n",
        "# Add one frequency data to train data\n",
        "train_inputs.extend(one_freq_input_ids)\n",
        "train_labels.extend(one_freq_labels)\n",
        "train_masks.extend(one_freq_attention_masks)\n",
        "train_token_types.extend(one_freq_token_types)\n",
        "\n",
        "# Convert all of our data into torch tensors, the required datatype for our model\n",
        "train_inputs = torch.tensor(train_inputs)\n",
        "train_labels = torch.tensor(train_labels)\n",
        "train_masks = torch.tensor(train_masks)\n",
        "train_token_types = torch.tensor(train_token_types)\n",
        "\n",
        "validation_inputs = torch.tensor(validation_inputs)\n",
        "validation_labels = torch.tensor(validation_labels)\n",
        "validation_masks = torch.tensor(validation_masks)\n",
        "validation_token_types = torch.tensor(validation_token_types)"
      ]
    },
    {
      "cell_type": "code",
      "execution_count": null,
      "metadata": {
        "id": "ZRnuLna-nIT4"
      },
      "outputs": [],
      "source": [
        "# Select a batch size for training. For fine-tuning with XLNet, the authors recommend a batch size of 32, 48, or 128. We will use 32 here to avoid memory issues.\n",
        "batch_size = 32\n",
        "\n",
        "# Create an iterator of our data with torch DataLoader. This helps save on memory during training because, unlike a for loop, \n",
        "# with an iterator the entire dataset does not need to be loaded into memory\n",
        "\n",
        "train_data = TensorDataset(train_inputs, train_masks, train_labels, train_token_types)\n",
        "train_sampler = RandomSampler(train_data)\n",
        "train_dataloader = DataLoader(train_data, sampler=train_sampler, batch_size=batch_size)\n",
        "\n",
        "validation_data = TensorDataset(validation_inputs, validation_masks, validation_labels, validation_token_types)\n",
        "validation_sampler = SequentialSampler(validation_data)\n",
        "validation_dataloader = DataLoader(validation_data, sampler=validation_sampler, batch_size=batch_size)"
      ]
    },
    {
      "cell_type": "code",
      "execution_count": null,
      "metadata": {
        "id": "iiFRnP_ZTBFa"
      },
      "outputs": [],
      "source": [
        "torch.save(validation_dataloader,'validation_data_loader')\n",
        "torch.save(train_dataloader,'train_data_loader')"
      ]
    },
    {
      "cell_type": "markdown",
      "metadata": {
        "id": "ncGteBuSFuZM"
      },
      "source": [
        "## Load Model & Set Params"
      ]
    },
    {
      "cell_type": "markdown",
      "metadata": {
        "id": "Z0dL-Bz_NrGj"
      },
      "source": [
        "Load the appropriate model below, each model already contains a single dense layer for classification on top.\n",
        "\n",
        "\n",
        "\n",
        "```\n",
        "BERT:\n",
        "model = BertForSequenceClassification.from_pretrained(\"bert-base-uncased\", num_labels=num_labels)\n",
        "\n",
        "XLNet:\n",
        "model = XLNetForSequenceClassification.from_pretrained(\"xlnet-base-cased\", num_labels=num_labels)\n",
        "\n",
        "RoBERTa:\n",
        "model = RobertaForSequenceClassification.from_pretrained('roberta-base', num_labels=num_labels)\n",
        "```\n",
        "\n"
      ]
    },
    {
      "cell_type": "code",
      "execution_count": null,
      "metadata": {
        "colab": {
          "base_uri": "https://localhost:8080/",
          "height": 1000,
          "referenced_widgets": [
            "ac8e9f497518458dbe4fb884e2c59806",
            "f45e3515349c4b65a8d226982b7902ad",
            "b86f6b81d03d4ae5adc6ab65d0c6f062",
            "ae09845661064978a7b2e56b5d015018",
            "94c05ce028134b68b28443081bff667a",
            "3a8c00c4a21c45de9f666f1c709699b6",
            "59f275c96c0a478494eba6526bd29b3c",
            "46d89373c9044a57bb96ae043090496f",
            "93c0db6ce4fe4ee493fda2d6cc519ddf",
            "642c742ef43a44829e4e092cd61e016c",
            "ef43587f722545b48ec9a710c5c4ec5b"
          ]
        },
        "id": "Ujk4k16DnIT6",
        "outputId": "f2899a6b-8c96-438f-ba98-9d338569dc22"
      },
      "outputs": [
        {
          "data": {
            "application/vnd.jupyter.widget-view+json": {
              "model_id": "ac8e9f497518458dbe4fb884e2c59806",
              "version_major": 2,
              "version_minor": 0
            },
            "text/plain": [
              "Downloading:   0%|          | 0.00/420M [00:00<?, ?B/s]"
            ]
          },
          "metadata": {},
          "output_type": "display_data"
        },
        {
          "name": "stderr",
          "output_type": "stream",
          "text": [
            "Some weights of the model checkpoint at bert-base-uncased were not used when initializing BertForSequenceClassification: ['cls.seq_relationship.weight', 'cls.predictions.transform.dense.weight', 'cls.predictions.bias', 'cls.predictions.transform.LayerNorm.bias', 'cls.predictions.decoder.weight', 'cls.seq_relationship.bias', 'cls.predictions.transform.LayerNorm.weight', 'cls.predictions.transform.dense.bias']\n",
            "- This IS expected if you are initializing BertForSequenceClassification from the checkpoint of a model trained on another task or with another architecture (e.g. initializing a BertForSequenceClassification model from a BertForPreTraining model).\n",
            "- This IS NOT expected if you are initializing BertForSequenceClassification from the checkpoint of a model that you expect to be exactly identical (initializing a BertForSequenceClassification model from a BertForSequenceClassification model).\n",
            "Some weights of BertForSequenceClassification were not initialized from the model checkpoint at bert-base-uncased and are newly initialized: ['classifier.bias', 'classifier.weight']\n",
            "You should probably TRAIN this model on a down-stream task to be able to use it for predictions and inference.\n"
          ]
        },
        {
          "data": {
            "text/plain": [
              "BertForSequenceClassification(\n",
              "  (bert): BertModel(\n",
              "    (embeddings): BertEmbeddings(\n",
              "      (word_embeddings): Embedding(30522, 768, padding_idx=0)\n",
              "      (position_embeddings): Embedding(512, 768)\n",
              "      (token_type_embeddings): Embedding(2, 768)\n",
              "      (LayerNorm): LayerNorm((768,), eps=1e-12, elementwise_affine=True)\n",
              "      (dropout): Dropout(p=0.1, inplace=False)\n",
              "    )\n",
              "    (encoder): BertEncoder(\n",
              "      (layer): ModuleList(\n",
              "        (0): BertLayer(\n",
              "          (attention): BertAttention(\n",
              "            (self): BertSelfAttention(\n",
              "              (query): Linear(in_features=768, out_features=768, bias=True)\n",
              "              (key): Linear(in_features=768, out_features=768, bias=True)\n",
              "              (value): Linear(in_features=768, out_features=768, bias=True)\n",
              "              (dropout): Dropout(p=0.1, inplace=False)\n",
              "            )\n",
              "            (output): BertSelfOutput(\n",
              "              (dense): Linear(in_features=768, out_features=768, bias=True)\n",
              "              (LayerNorm): LayerNorm((768,), eps=1e-12, elementwise_affine=True)\n",
              "              (dropout): Dropout(p=0.1, inplace=False)\n",
              "            )\n",
              "          )\n",
              "          (intermediate): BertIntermediate(\n",
              "            (dense): Linear(in_features=768, out_features=3072, bias=True)\n",
              "            (intermediate_act_fn): GELUActivation()\n",
              "          )\n",
              "          (output): BertOutput(\n",
              "            (dense): Linear(in_features=3072, out_features=768, bias=True)\n",
              "            (LayerNorm): LayerNorm((768,), eps=1e-12, elementwise_affine=True)\n",
              "            (dropout): Dropout(p=0.1, inplace=False)\n",
              "          )\n",
              "        )\n",
              "        (1): BertLayer(\n",
              "          (attention): BertAttention(\n",
              "            (self): BertSelfAttention(\n",
              "              (query): Linear(in_features=768, out_features=768, bias=True)\n",
              "              (key): Linear(in_features=768, out_features=768, bias=True)\n",
              "              (value): Linear(in_features=768, out_features=768, bias=True)\n",
              "              (dropout): Dropout(p=0.1, inplace=False)\n",
              "            )\n",
              "            (output): BertSelfOutput(\n",
              "              (dense): Linear(in_features=768, out_features=768, bias=True)\n",
              "              (LayerNorm): LayerNorm((768,), eps=1e-12, elementwise_affine=True)\n",
              "              (dropout): Dropout(p=0.1, inplace=False)\n",
              "            )\n",
              "          )\n",
              "          (intermediate): BertIntermediate(\n",
              "            (dense): Linear(in_features=768, out_features=3072, bias=True)\n",
              "            (intermediate_act_fn): GELUActivation()\n",
              "          )\n",
              "          (output): BertOutput(\n",
              "            (dense): Linear(in_features=3072, out_features=768, bias=True)\n",
              "            (LayerNorm): LayerNorm((768,), eps=1e-12, elementwise_affine=True)\n",
              "            (dropout): Dropout(p=0.1, inplace=False)\n",
              "          )\n",
              "        )\n",
              "        (2): BertLayer(\n",
              "          (attention): BertAttention(\n",
              "            (self): BertSelfAttention(\n",
              "              (query): Linear(in_features=768, out_features=768, bias=True)\n",
              "              (key): Linear(in_features=768, out_features=768, bias=True)\n",
              "              (value): Linear(in_features=768, out_features=768, bias=True)\n",
              "              (dropout): Dropout(p=0.1, inplace=False)\n",
              "            )\n",
              "            (output): BertSelfOutput(\n",
              "              (dense): Linear(in_features=768, out_features=768, bias=True)\n",
              "              (LayerNorm): LayerNorm((768,), eps=1e-12, elementwise_affine=True)\n",
              "              (dropout): Dropout(p=0.1, inplace=False)\n",
              "            )\n",
              "          )\n",
              "          (intermediate): BertIntermediate(\n",
              "            (dense): Linear(in_features=768, out_features=3072, bias=True)\n",
              "            (intermediate_act_fn): GELUActivation()\n",
              "          )\n",
              "          (output): BertOutput(\n",
              "            (dense): Linear(in_features=3072, out_features=768, bias=True)\n",
              "            (LayerNorm): LayerNorm((768,), eps=1e-12, elementwise_affine=True)\n",
              "            (dropout): Dropout(p=0.1, inplace=False)\n",
              "          )\n",
              "        )\n",
              "        (3): BertLayer(\n",
              "          (attention): BertAttention(\n",
              "            (self): BertSelfAttention(\n",
              "              (query): Linear(in_features=768, out_features=768, bias=True)\n",
              "              (key): Linear(in_features=768, out_features=768, bias=True)\n",
              "              (value): Linear(in_features=768, out_features=768, bias=True)\n",
              "              (dropout): Dropout(p=0.1, inplace=False)\n",
              "            )\n",
              "            (output): BertSelfOutput(\n",
              "              (dense): Linear(in_features=768, out_features=768, bias=True)\n",
              "              (LayerNorm): LayerNorm((768,), eps=1e-12, elementwise_affine=True)\n",
              "              (dropout): Dropout(p=0.1, inplace=False)\n",
              "            )\n",
              "          )\n",
              "          (intermediate): BertIntermediate(\n",
              "            (dense): Linear(in_features=768, out_features=3072, bias=True)\n",
              "            (intermediate_act_fn): GELUActivation()\n",
              "          )\n",
              "          (output): BertOutput(\n",
              "            (dense): Linear(in_features=3072, out_features=768, bias=True)\n",
              "            (LayerNorm): LayerNorm((768,), eps=1e-12, elementwise_affine=True)\n",
              "            (dropout): Dropout(p=0.1, inplace=False)\n",
              "          )\n",
              "        )\n",
              "        (4): BertLayer(\n",
              "          (attention): BertAttention(\n",
              "            (self): BertSelfAttention(\n",
              "              (query): Linear(in_features=768, out_features=768, bias=True)\n",
              "              (key): Linear(in_features=768, out_features=768, bias=True)\n",
              "              (value): Linear(in_features=768, out_features=768, bias=True)\n",
              "              (dropout): Dropout(p=0.1, inplace=False)\n",
              "            )\n",
              "            (output): BertSelfOutput(\n",
              "              (dense): Linear(in_features=768, out_features=768, bias=True)\n",
              "              (LayerNorm): LayerNorm((768,), eps=1e-12, elementwise_affine=True)\n",
              "              (dropout): Dropout(p=0.1, inplace=False)\n",
              "            )\n",
              "          )\n",
              "          (intermediate): BertIntermediate(\n",
              "            (dense): Linear(in_features=768, out_features=3072, bias=True)\n",
              "            (intermediate_act_fn): GELUActivation()\n",
              "          )\n",
              "          (output): BertOutput(\n",
              "            (dense): Linear(in_features=3072, out_features=768, bias=True)\n",
              "            (LayerNorm): LayerNorm((768,), eps=1e-12, elementwise_affine=True)\n",
              "            (dropout): Dropout(p=0.1, inplace=False)\n",
              "          )\n",
              "        )\n",
              "        (5): BertLayer(\n",
              "          (attention): BertAttention(\n",
              "            (self): BertSelfAttention(\n",
              "              (query): Linear(in_features=768, out_features=768, bias=True)\n",
              "              (key): Linear(in_features=768, out_features=768, bias=True)\n",
              "              (value): Linear(in_features=768, out_features=768, bias=True)\n",
              "              (dropout): Dropout(p=0.1, inplace=False)\n",
              "            )\n",
              "            (output): BertSelfOutput(\n",
              "              (dense): Linear(in_features=768, out_features=768, bias=True)\n",
              "              (LayerNorm): LayerNorm((768,), eps=1e-12, elementwise_affine=True)\n",
              "              (dropout): Dropout(p=0.1, inplace=False)\n",
              "            )\n",
              "          )\n",
              "          (intermediate): BertIntermediate(\n",
              "            (dense): Linear(in_features=768, out_features=3072, bias=True)\n",
              "            (intermediate_act_fn): GELUActivation()\n",
              "          )\n",
              "          (output): BertOutput(\n",
              "            (dense): Linear(in_features=3072, out_features=768, bias=True)\n",
              "            (LayerNorm): LayerNorm((768,), eps=1e-12, elementwise_affine=True)\n",
              "            (dropout): Dropout(p=0.1, inplace=False)\n",
              "          )\n",
              "        )\n",
              "        (6): BertLayer(\n",
              "          (attention): BertAttention(\n",
              "            (self): BertSelfAttention(\n",
              "              (query): Linear(in_features=768, out_features=768, bias=True)\n",
              "              (key): Linear(in_features=768, out_features=768, bias=True)\n",
              "              (value): Linear(in_features=768, out_features=768, bias=True)\n",
              "              (dropout): Dropout(p=0.1, inplace=False)\n",
              "            )\n",
              "            (output): BertSelfOutput(\n",
              "              (dense): Linear(in_features=768, out_features=768, bias=True)\n",
              "              (LayerNorm): LayerNorm((768,), eps=1e-12, elementwise_affine=True)\n",
              "              (dropout): Dropout(p=0.1, inplace=False)\n",
              "            )\n",
              "          )\n",
              "          (intermediate): BertIntermediate(\n",
              "            (dense): Linear(in_features=768, out_features=3072, bias=True)\n",
              "            (intermediate_act_fn): GELUActivation()\n",
              "          )\n",
              "          (output): BertOutput(\n",
              "            (dense): Linear(in_features=3072, out_features=768, bias=True)\n",
              "            (LayerNorm): LayerNorm((768,), eps=1e-12, elementwise_affine=True)\n",
              "            (dropout): Dropout(p=0.1, inplace=False)\n",
              "          )\n",
              "        )\n",
              "        (7): BertLayer(\n",
              "          (attention): BertAttention(\n",
              "            (self): BertSelfAttention(\n",
              "              (query): Linear(in_features=768, out_features=768, bias=True)\n",
              "              (key): Linear(in_features=768, out_features=768, bias=True)\n",
              "              (value): Linear(in_features=768, out_features=768, bias=True)\n",
              "              (dropout): Dropout(p=0.1, inplace=False)\n",
              "            )\n",
              "            (output): BertSelfOutput(\n",
              "              (dense): Linear(in_features=768, out_features=768, bias=True)\n",
              "              (LayerNorm): LayerNorm((768,), eps=1e-12, elementwise_affine=True)\n",
              "              (dropout): Dropout(p=0.1, inplace=False)\n",
              "            )\n",
              "          )\n",
              "          (intermediate): BertIntermediate(\n",
              "            (dense): Linear(in_features=768, out_features=3072, bias=True)\n",
              "            (intermediate_act_fn): GELUActivation()\n",
              "          )\n",
              "          (output): BertOutput(\n",
              "            (dense): Linear(in_features=3072, out_features=768, bias=True)\n",
              "            (LayerNorm): LayerNorm((768,), eps=1e-12, elementwise_affine=True)\n",
              "            (dropout): Dropout(p=0.1, inplace=False)\n",
              "          )\n",
              "        )\n",
              "        (8): BertLayer(\n",
              "          (attention): BertAttention(\n",
              "            (self): BertSelfAttention(\n",
              "              (query): Linear(in_features=768, out_features=768, bias=True)\n",
              "              (key): Linear(in_features=768, out_features=768, bias=True)\n",
              "              (value): Linear(in_features=768, out_features=768, bias=True)\n",
              "              (dropout): Dropout(p=0.1, inplace=False)\n",
              "            )\n",
              "            (output): BertSelfOutput(\n",
              "              (dense): Linear(in_features=768, out_features=768, bias=True)\n",
              "              (LayerNorm): LayerNorm((768,), eps=1e-12, elementwise_affine=True)\n",
              "              (dropout): Dropout(p=0.1, inplace=False)\n",
              "            )\n",
              "          )\n",
              "          (intermediate): BertIntermediate(\n",
              "            (dense): Linear(in_features=768, out_features=3072, bias=True)\n",
              "            (intermediate_act_fn): GELUActivation()\n",
              "          )\n",
              "          (output): BertOutput(\n",
              "            (dense): Linear(in_features=3072, out_features=768, bias=True)\n",
              "            (LayerNorm): LayerNorm((768,), eps=1e-12, elementwise_affine=True)\n",
              "            (dropout): Dropout(p=0.1, inplace=False)\n",
              "          )\n",
              "        )\n",
              "        (9): BertLayer(\n",
              "          (attention): BertAttention(\n",
              "            (self): BertSelfAttention(\n",
              "              (query): Linear(in_features=768, out_features=768, bias=True)\n",
              "              (key): Linear(in_features=768, out_features=768, bias=True)\n",
              "              (value): Linear(in_features=768, out_features=768, bias=True)\n",
              "              (dropout): Dropout(p=0.1, inplace=False)\n",
              "            )\n",
              "            (output): BertSelfOutput(\n",
              "              (dense): Linear(in_features=768, out_features=768, bias=True)\n",
              "              (LayerNorm): LayerNorm((768,), eps=1e-12, elementwise_affine=True)\n",
              "              (dropout): Dropout(p=0.1, inplace=False)\n",
              "            )\n",
              "          )\n",
              "          (intermediate): BertIntermediate(\n",
              "            (dense): Linear(in_features=768, out_features=3072, bias=True)\n",
              "            (intermediate_act_fn): GELUActivation()\n",
              "          )\n",
              "          (output): BertOutput(\n",
              "            (dense): Linear(in_features=3072, out_features=768, bias=True)\n",
              "            (LayerNorm): LayerNorm((768,), eps=1e-12, elementwise_affine=True)\n",
              "            (dropout): Dropout(p=0.1, inplace=False)\n",
              "          )\n",
              "        )\n",
              "        (10): BertLayer(\n",
              "          (attention): BertAttention(\n",
              "            (self): BertSelfAttention(\n",
              "              (query): Linear(in_features=768, out_features=768, bias=True)\n",
              "              (key): Linear(in_features=768, out_features=768, bias=True)\n",
              "              (value): Linear(in_features=768, out_features=768, bias=True)\n",
              "              (dropout): Dropout(p=0.1, inplace=False)\n",
              "            )\n",
              "            (output): BertSelfOutput(\n",
              "              (dense): Linear(in_features=768, out_features=768, bias=True)\n",
              "              (LayerNorm): LayerNorm((768,), eps=1e-12, elementwise_affine=True)\n",
              "              (dropout): Dropout(p=0.1, inplace=False)\n",
              "            )\n",
              "          )\n",
              "          (intermediate): BertIntermediate(\n",
              "            (dense): Linear(in_features=768, out_features=3072, bias=True)\n",
              "            (intermediate_act_fn): GELUActivation()\n",
              "          )\n",
              "          (output): BertOutput(\n",
              "            (dense): Linear(in_features=3072, out_features=768, bias=True)\n",
              "            (LayerNorm): LayerNorm((768,), eps=1e-12, elementwise_affine=True)\n",
              "            (dropout): Dropout(p=0.1, inplace=False)\n",
              "          )\n",
              "        )\n",
              "        (11): BertLayer(\n",
              "          (attention): BertAttention(\n",
              "            (self): BertSelfAttention(\n",
              "              (query): Linear(in_features=768, out_features=768, bias=True)\n",
              "              (key): Linear(in_features=768, out_features=768, bias=True)\n",
              "              (value): Linear(in_features=768, out_features=768, bias=True)\n",
              "              (dropout): Dropout(p=0.1, inplace=False)\n",
              "            )\n",
              "            (output): BertSelfOutput(\n",
              "              (dense): Linear(in_features=768, out_features=768, bias=True)\n",
              "              (LayerNorm): LayerNorm((768,), eps=1e-12, elementwise_affine=True)\n",
              "              (dropout): Dropout(p=0.1, inplace=False)\n",
              "            )\n",
              "          )\n",
              "          (intermediate): BertIntermediate(\n",
              "            (dense): Linear(in_features=768, out_features=3072, bias=True)\n",
              "            (intermediate_act_fn): GELUActivation()\n",
              "          )\n",
              "          (output): BertOutput(\n",
              "            (dense): Linear(in_features=3072, out_features=768, bias=True)\n",
              "            (LayerNorm): LayerNorm((768,), eps=1e-12, elementwise_affine=True)\n",
              "            (dropout): Dropout(p=0.1, inplace=False)\n",
              "          )\n",
              "        )\n",
              "      )\n",
              "    )\n",
              "    (pooler): BertPooler(\n",
              "      (dense): Linear(in_features=768, out_features=768, bias=True)\n",
              "      (activation): Tanh()\n",
              "    )\n",
              "  )\n",
              "  (dropout): Dropout(p=0.1, inplace=False)\n",
              "  (classifier): Linear(in_features=768, out_features=11, bias=True)\n",
              ")"
            ]
          },
          "execution_count": 28,
          "metadata": {},
          "output_type": "execute_result"
        }
      ],
      "source": [
        "from transformers import BertForSequenceClassification\n",
        "# Load model, the pretrained model will include a single linear classification layer on top for classification. \n",
        "model = BertForSequenceClassification.from_pretrained(\"bert-base-uncased\", num_labels=num_labels)\n",
        "model.cuda()"
      ]
    },
    {
      "cell_type": "markdown",
      "metadata": {
        "id": "jGE4gv9qfhRG"
      },
      "source": [
        "Setting custom optimization parameters for the AdamW optimizer https://huggingface.co/transformers/main_classes/optimizer_schedules.html"
      ]
    },
    {
      "cell_type": "code",
      "execution_count": null,
      "metadata": {
        "id": "GsV8zwWYnIT9"
      },
      "outputs": [],
      "source": [
        "# setting custom optimization parameters. You may implement a scheduler here as well.\n",
        "param_optimizer = list(model.named_parameters())\n",
        "no_decay = ['bias', 'gamma', 'beta']\n",
        "optimizer_grouped_parameters = [\n",
        "    {'params': [p for n, p in param_optimizer if not any(nd in n for nd in no_decay)],\n",
        "     'weight_decay_rate': 0.01},\n",
        "    {'params': [p for n, p in param_optimizer if any(nd in n for nd in no_decay)],\n",
        "     'weight_decay_rate': 0.0}\n",
        "]"
      ]
    },
    {
      "cell_type": "code",
      "execution_count": null,
      "metadata": {
        "id": "aOomZIEIoHOL"
      },
      "outputs": [],
      "source": [
        "from torch.optim import AdamW\n",
        "optimizer = AdamW(optimizer_grouped_parameters,lr=2e-5)\n",
        "# optimizer = AdamW(model.parameters(),lr=2e-5)  # Default optimization"
      ]
    },
    {
      "cell_type": "markdown",
      "metadata": {
        "id": "JRQQZ8zIFzLW"
      },
      "source": [
        "## Train Model"
      ]
    },
    {
      "cell_type": "code",
      "execution_count": null,
      "metadata": {
        "colab": {
          "base_uri": "https://localhost:8080/"
        },
        "id": "uDLZmEC_oKo3",
        "outputId": "8732421b-6da1-4d08-eca4-01b0674fc4de"
      },
      "outputs": [
        {
          "name": "stderr",
          "output_type": "stream",
          "text": [
            "\rEpoch:   0%|          | 0/10 [00:00<?, ?it/s]"
          ]
        },
        {
          "name": "stdout",
          "output_type": "stream",
          "text": [
            "Train loss: 0.45400803422523756\n"
          ]
        },
        {
          "name": "stderr",
          "output_type": "stream",
          "text": [
            "\rEpoch:  10%|█         | 1/10 [00:32<04:50, 32.32s/it]"
          ]
        },
        {
          "name": "stdout",
          "output_type": "stream",
          "text": [
            "F1 Validation Accuracy:  0.0\n",
            "Flat Validation Accuracy:  14.975845410628018\n",
            "Train loss: 0.2941702033503581\n"
          ]
        },
        {
          "name": "stderr",
          "output_type": "stream",
          "text": [
            "\rEpoch:  20%|██        | 2/10 [01:04<04:16, 32.07s/it]"
          ]
        },
        {
          "name": "stdout",
          "output_type": "stream",
          "text": [
            "F1 Validation Accuracy:  0.0\n",
            "Flat Validation Accuracy:  14.975845410628018\n",
            "Train loss: 0.27818725775864167\n"
          ]
        },
        {
          "name": "stderr",
          "output_type": "stream",
          "text": [
            "\rEpoch:  30%|███       | 3/10 [01:35<03:43, 31.94s/it]"
          ]
        },
        {
          "name": "stdout",
          "output_type": "stream",
          "text": [
            "F1 Validation Accuracy:  3.404255319148936\n",
            "Flat Validation Accuracy:  14.975845410628018\n",
            "Train loss: 0.2506412270210557\n"
          ]
        },
        {
          "name": "stderr",
          "output_type": "stream",
          "text": [
            "\rEpoch:  40%|████      | 4/10 [02:07<03:10, 31.70s/it]"
          ]
        },
        {
          "name": "stdout",
          "output_type": "stream",
          "text": [
            "F1 Validation Accuracy:  35.256410256410255\n",
            "Flat Validation Accuracy:  29.468599033816425\n",
            "Train loss: 0.22291208525835457\n"
          ]
        },
        {
          "name": "stderr",
          "output_type": "stream",
          "text": [
            "\rEpoch:  50%|█████     | 5/10 [02:38<02:38, 31.65s/it]"
          ]
        },
        {
          "name": "stdout",
          "output_type": "stream",
          "text": [
            "F1 Validation Accuracy:  45.614035087719294\n",
            "Flat Validation Accuracy:  37.19806763285024\n",
            "Train loss: 0.19056788642527694\n"
          ]
        },
        {
          "name": "stderr",
          "output_type": "stream",
          "text": [
            "\rEpoch:  60%|██████    | 6/10 [03:10<02:06, 31.66s/it]"
          ]
        },
        {
          "name": "stdout",
          "output_type": "stream",
          "text": [
            "F1 Validation Accuracy:  42.565597667638485\n",
            "Flat Validation Accuracy:  34.29951690821256\n",
            "Train loss: 0.15931596392292088\n"
          ]
        },
        {
          "name": "stderr",
          "output_type": "stream",
          "text": [
            "\rEpoch:  70%|███████   | 7/10 [03:42<01:34, 31.65s/it]"
          ]
        },
        {
          "name": "stdout",
          "output_type": "stream",
          "text": [
            "F1 Validation Accuracy:  52.083333333333336\n",
            "Flat Validation Accuracy:  42.51207729468599\n",
            "Train loss: 0.1328742554632284\n"
          ]
        },
        {
          "name": "stderr",
          "output_type": "stream",
          "text": [
            "\rEpoch:  80%|████████  | 8/10 [04:13<01:03, 31.62s/it]"
          ]
        },
        {
          "name": "stdout",
          "output_type": "stream",
          "text": [
            "F1 Validation Accuracy:  52.26130653266331\n",
            "Flat Validation Accuracy:  41.06280193236715\n",
            "Train loss: 0.11179371973720648\n"
          ]
        },
        {
          "name": "stderr",
          "output_type": "stream",
          "text": [
            "\rEpoch:  90%|█████████ | 9/10 [04:45<00:31, 31.60s/it]"
          ]
        },
        {
          "name": "stdout",
          "output_type": "stream",
          "text": [
            "F1 Validation Accuracy:  53.36658354114713\n",
            "Flat Validation Accuracy:  43.96135265700483\n",
            "Train loss: 0.09430232915585324\n"
          ]
        },
        {
          "name": "stderr",
          "output_type": "stream",
          "text": [
            "Epoch: 100%|██████████| 10/10 [05:16<00:00, 31.69s/it]"
          ]
        },
        {
          "name": "stdout",
          "output_type": "stream",
          "text": [
            "F1 Validation Accuracy:  51.6795865633075\n",
            "Flat Validation Accuracy:  41.06280193236715\n"
          ]
        },
        {
          "name": "stderr",
          "output_type": "stream",
          "text": [
            "\n"
          ]
        }
      ],
      "source": [
        "# Store our loss and accuracy for plotting\n",
        "train_loss_set = []\n",
        "\n",
        "# Number of training epochs (authors recommend between 2 and 4)\n",
        "epochs = 10\n",
        "\n",
        "# trange is a tqdm wrapper around the normal python range\n",
        "for _ in trange(epochs, desc=\"Epoch\"):\n",
        "\n",
        "  # Training\n",
        "  \n",
        "  # Set our model to training mode (as opposed to evaluation mode)\n",
        "  model.train()\n",
        "\n",
        "  # Tracking variables\n",
        "  tr_loss = 0 #running loss\n",
        "  nb_tr_examples, nb_tr_steps = 0, 0\n",
        "  \n",
        "  # Train the data for one epoch\n",
        "  for step, batch in enumerate(train_dataloader):\n",
        "    # Add batch to GPU\n",
        "    batch = tuple(t.to(device) for t in batch)\n",
        "    # Unpack the inputs from our dataloader\n",
        "    b_input_ids, b_input_mask, b_labels, b_token_types = batch\n",
        "    # Clear out the gradients (by default they accumulate)\n",
        "    optimizer.zero_grad()\n",
        "\n",
        "    # # Forward pass for multiclass classification\n",
        "    # outputs = model(b_input_ids, token_type_ids=None, attention_mask=b_input_mask, labels=b_labels)\n",
        "    # loss = outputs[0]\n",
        "    # logits = outputs[1]\n",
        "\n",
        "    # Forward pass for multilabel classification\n",
        "    outputs = model(b_input_ids, token_type_ids=None, attention_mask=b_input_mask)\n",
        "    logits = outputs[0]\n",
        "    loss_func = BCEWithLogitsLoss() \n",
        "    loss = loss_func(logits.view(-1,num_labels),b_labels.type_as(logits).view(-1,num_labels)) #convert labels to float for calculation\n",
        "    # loss_func = BCELoss() \n",
        "    # loss = loss_func(torch.sigmoid(logits.view(-1,num_labels)),b_labels.type_as(logits).view(-1,num_labels)) #convert labels to float for calculation\n",
        "    train_loss_set.append(loss.item())    \n",
        "\n",
        "    # Backward pass\n",
        "    loss.backward()\n",
        "    # Update parameters and take a step using the computed gradient\n",
        "    optimizer.step()\n",
        "    # scheduler.step()\n",
        "    # Update tracking variables\n",
        "    tr_loss += loss.item()\n",
        "    nb_tr_examples += b_input_ids.size(0)\n",
        "    nb_tr_steps += 1\n",
        "\n",
        "  print(\"Train loss: {}\".format(tr_loss/nb_tr_steps))\n",
        "\n",
        "###############################################################################\n",
        "\n",
        "  # Validation\n",
        "\n",
        "  # Put model in evaluation mode to evaluate loss on the validation set\n",
        "  model.eval()\n",
        "\n",
        "  # Variables to gather full output\n",
        "  logit_preds,true_labels,pred_labels,tokenized_texts = [],[],[],[]\n",
        "\n",
        "  # Predict\n",
        "  for i, batch in enumerate(validation_dataloader):\n",
        "    batch = tuple(t.to(device) for t in batch)\n",
        "    # Unpack the inputs from our dataloader\n",
        "    b_input_ids, b_input_mask, b_labels, b_token_types = batch\n",
        "    with torch.no_grad():\n",
        "      # Forward pass\n",
        "      outs = model(b_input_ids, token_type_ids=None, attention_mask=b_input_mask)\n",
        "      b_logit_pred = outs[0]\n",
        "      pred_label = torch.sigmoid(b_logit_pred)\n",
        "\n",
        "      b_logit_pred = b_logit_pred.detach().cpu().numpy()\n",
        "      pred_label = pred_label.to('cpu').numpy()\n",
        "      b_labels = b_labels.to('cpu').numpy()\n",
        "\n",
        "    tokenized_texts.append(b_input_ids)\n",
        "    logit_preds.append(b_logit_pred)\n",
        "    true_labels.append(b_labels)\n",
        "    pred_labels.append(pred_label)\n",
        "\n",
        "  # Flatten outputs\n",
        "  pred_labels = [item for sublist in pred_labels for item in sublist]\n",
        "  true_labels = [item for sublist in true_labels for item in sublist]\n",
        "\n",
        "  # Calculate Accuracy\n",
        "  threshold = 0.50\n",
        "  pred_bools = [pl>threshold for pl in pred_labels]\n",
        "  true_bools = [tl==1 for tl in true_labels]\n",
        "  val_f1_accuracy = f1_score(true_bools,pred_bools,average='micro')*100\n",
        "  val_flat_accuracy = accuracy_score(true_bools, pred_bools)*100\n",
        "\n",
        "  print('F1 Validation Accuracy: ', val_f1_accuracy)\n",
        "  print('Flat Validation Accuracy: ', val_flat_accuracy)"
      ]
    },
    {
      "cell_type": "code",
      "execution_count": null,
      "metadata": {
        "id": "aiBeiBSRoOuz"
      },
      "outputs": [],
      "source": [
        "torch.save(model.state_dict(), 'bert_model_toxic')"
      ]
    },
    {
      "cell_type": "markdown",
      "metadata": {
        "id": "_7dd2GE3F4yK"
      },
      "source": [
        "## Load and Preprocess Test Data"
      ]
    },
    {
      "cell_type": "code",
      "execution_count": null,
      "metadata": {
        "colab": {
          "base_uri": "https://localhost:8080/",
          "height": 582
        },
        "id": "G5Q7hC4GFOLJ",
        "outputId": "5afeebe1-2683-4dc7-9df2-e738a056cffc"
      },
      "outputs": [
        {
          "data": {
            "text/html": [
              "\n",
              "  <div id=\"df-27ad3b44-7c29-4714-8738-5050b8c29d70\">\n",
              "    <div class=\"colab-df-container\">\n",
              "      <div>\n",
              "<style scoped>\n",
              "    .dataframe tbody tr th:only-of-type {\n",
              "        vertical-align: middle;\n",
              "    }\n",
              "\n",
              "    .dataframe tbody tr th {\n",
              "        vertical-align: top;\n",
              "    }\n",
              "\n",
              "    .dataframe thead th {\n",
              "        text-align: right;\n",
              "    }\n",
              "</style>\n",
              "<table border=\"1\" class=\"dataframe\">\n",
              "  <thead>\n",
              "    <tr style=\"text-align: right;\">\n",
              "      <th></th>\n",
              "      <th>id</th>\n",
              "      <th>comment_text</th>\n",
              "      <th>implementation</th>\n",
              "      <th>architecture</th>\n",
              "      <th>requirements</th>\n",
              "      <th>application_domain_knowledge</th>\n",
              "      <th>execution_platform</th>\n",
              "      <th>design</th>\n",
              "      <th>structure</th>\n",
              "      <th>behavior</th>\n",
              "      <th>data_model_information</th>\n",
              "      <th>development_process_tools</th>\n",
              "      <th>user_interface</th>\n",
              "    </tr>\n",
              "  </thead>\n",
              "  <tbody>\n",
              "    <tr>\n",
              "      <th>0</th>\n",
              "      <td>1</td>\n",
              "      <td>the versatility of the instrument including al...</td>\n",
              "      <td>0</td>\n",
              "      <td>0</td>\n",
              "      <td>0</td>\n",
              "      <td>0</td>\n",
              "      <td>0</td>\n",
              "      <td>0</td>\n",
              "      <td>0</td>\n",
              "      <td>0</td>\n",
              "      <td>0</td>\n",
              "      <td>0</td>\n",
              "      <td>0</td>\n",
              "    </tr>\n",
              "    <tr>\n",
              "      <th>1</th>\n",
              "      <td>2</td>\n",
              "      <td>several systems are defined serving these appl...</td>\n",
              "      <td>0</td>\n",
              "      <td>0</td>\n",
              "      <td>0</td>\n",
              "      <td>1</td>\n",
              "      <td>0</td>\n",
              "      <td>0</td>\n",
              "      <td>0</td>\n",
              "      <td>0</td>\n",
              "      <td>0</td>\n",
              "      <td>0</td>\n",
              "      <td>0</td>\n",
              "    </tr>\n",
              "    <tr>\n",
              "      <th>2</th>\n",
              "      <td>3</td>\n",
              "      <td>the samples do not need any preparation and co...</td>\n",
              "      <td>0</td>\n",
              "      <td>0</td>\n",
              "      <td>1</td>\n",
              "      <td>0</td>\n",
              "      <td>0</td>\n",
              "      <td>0</td>\n",
              "      <td>0</td>\n",
              "      <td>0</td>\n",
              "      <td>0</td>\n",
              "      <td>0</td>\n",
              "      <td>0</td>\n",
              "    </tr>\n",
              "    <tr>\n",
              "      <th>3</th>\n",
              "      <td>4</td>\n",
              "      <td>with its tungsten source tip (lifetime 40 hour...</td>\n",
              "      <td>0</td>\n",
              "      <td>0</td>\n",
              "      <td>0</td>\n",
              "      <td>0</td>\n",
              "      <td>0</td>\n",
              "      <td>0</td>\n",
              "      <td>0</td>\n",
              "      <td>0</td>\n",
              "      <td>0</td>\n",
              "      <td>0</td>\n",
              "      <td>0</td>\n",
              "    </tr>\n",
              "    <tr>\n",
              "      <th>4</th>\n",
              "      <td>5</td>\n",
              "      <td>nova nanolab: this system is equipped with a h...</td>\n",
              "      <td>0</td>\n",
              "      <td>0</td>\n",
              "      <td>0</td>\n",
              "      <td>0</td>\n",
              "      <td>0</td>\n",
              "      <td>0</td>\n",
              "      <td>1</td>\n",
              "      <td>0</td>\n",
              "      <td>0</td>\n",
              "      <td>0</td>\n",
              "      <td>0</td>\n",
              "    </tr>\n",
              "  </tbody>\n",
              "</table>\n",
              "</div>\n",
              "      <button class=\"colab-df-convert\" onclick=\"convertToInteractive('df-27ad3b44-7c29-4714-8738-5050b8c29d70')\"\n",
              "              title=\"Convert this dataframe to an interactive table.\"\n",
              "              style=\"display:none;\">\n",
              "        \n",
              "  <svg xmlns=\"http://www.w3.org/2000/svg\" height=\"24px\"viewBox=\"0 0 24 24\"\n",
              "       width=\"24px\">\n",
              "    <path d=\"M0 0h24v24H0V0z\" fill=\"none\"/>\n",
              "    <path d=\"M18.56 5.44l.94 2.06.94-2.06 2.06-.94-2.06-.94-.94-2.06-.94 2.06-2.06.94zm-11 1L8.5 8.5l.94-2.06 2.06-.94-2.06-.94L8.5 2.5l-.94 2.06-2.06.94zm10 10l.94 2.06.94-2.06 2.06-.94-2.06-.94-.94-2.06-.94 2.06-2.06.94z\"/><path d=\"M17.41 7.96l-1.37-1.37c-.4-.4-.92-.59-1.43-.59-.52 0-1.04.2-1.43.59L10.3 9.45l-7.72 7.72c-.78.78-.78 2.05 0 2.83L4 21.41c.39.39.9.59 1.41.59.51 0 1.02-.2 1.41-.59l7.78-7.78 2.81-2.81c.8-.78.8-2.07 0-2.86zM5.41 20L4 18.59l7.72-7.72 1.47 1.35L5.41 20z\"/>\n",
              "  </svg>\n",
              "      </button>\n",
              "      \n",
              "  <style>\n",
              "    .colab-df-container {\n",
              "      display:flex;\n",
              "      flex-wrap:wrap;\n",
              "      gap: 12px;\n",
              "    }\n",
              "\n",
              "    .colab-df-convert {\n",
              "      background-color: #E8F0FE;\n",
              "      border: none;\n",
              "      border-radius: 50%;\n",
              "      cursor: pointer;\n",
              "      display: none;\n",
              "      fill: #1967D2;\n",
              "      height: 32px;\n",
              "      padding: 0 0 0 0;\n",
              "      width: 32px;\n",
              "    }\n",
              "\n",
              "    .colab-df-convert:hover {\n",
              "      background-color: #E2EBFA;\n",
              "      box-shadow: 0px 1px 2px rgba(60, 64, 67, 0.3), 0px 1px 3px 1px rgba(60, 64, 67, 0.15);\n",
              "      fill: #174EA6;\n",
              "    }\n",
              "\n",
              "    [theme=dark] .colab-df-convert {\n",
              "      background-color: #3B4455;\n",
              "      fill: #D2E3FC;\n",
              "    }\n",
              "\n",
              "    [theme=dark] .colab-df-convert:hover {\n",
              "      background-color: #434B5C;\n",
              "      box-shadow: 0px 1px 3px 1px rgba(0, 0, 0, 0.15);\n",
              "      filter: drop-shadow(0px 1px 2px rgba(0, 0, 0, 0.3));\n",
              "      fill: #FFFFFF;\n",
              "    }\n",
              "  </style>\n",
              "\n",
              "      <script>\n",
              "        const buttonEl =\n",
              "          document.querySelector('#df-27ad3b44-7c29-4714-8738-5050b8c29d70 button.colab-df-convert');\n",
              "        buttonEl.style.display =\n",
              "          google.colab.kernel.accessAllowed ? 'block' : 'none';\n",
              "\n",
              "        async function convertToInteractive(key) {\n",
              "          const element = document.querySelector('#df-27ad3b44-7c29-4714-8738-5050b8c29d70');\n",
              "          const dataTable =\n",
              "            await google.colab.kernel.invokeFunction('convertToInteractive',\n",
              "                                                     [key], {});\n",
              "          if (!dataTable) return;\n",
              "\n",
              "          const docLinkHtml = 'Like what you see? Visit the ' +\n",
              "            '<a target=\"_blank\" href=https://colab.research.google.com/notebooks/data_table.ipynb>data table notebook</a>'\n",
              "            + ' to learn more about interactive tables.';\n",
              "          element.innerHTML = '';\n",
              "          dataTable['output_type'] = 'display_data';\n",
              "          await google.colab.output.renderOutput(dataTable, element);\n",
              "          const docLink = document.createElement('div');\n",
              "          docLink.innerHTML = docLinkHtml;\n",
              "          element.appendChild(docLink);\n",
              "        }\n",
              "      </script>\n",
              "    </div>\n",
              "  </div>\n",
              "  "
            ],
            "text/plain": [
              "   id                                       comment_text  implementation  \\\n",
              "0   1  the versatility of the instrument including al...               0   \n",
              "1   2  several systems are defined serving these appl...               0   \n",
              "2   3  the samples do not need any preparation and co...               0   \n",
              "3   4  with its tungsten source tip (lifetime 40 hour...               0   \n",
              "4   5  nova nanolab: this system is equipped with a h...               0   \n",
              "\n",
              "   architecture  requirements  application_domain_knowledge  \\\n",
              "0             0             0                             0   \n",
              "1             0             0                             1   \n",
              "2             0             1                             0   \n",
              "3             0             0                             0   \n",
              "4             0             0                             0   \n",
              "\n",
              "   execution_platform  design  structure  behavior  data_model_information  \\\n",
              "0                   0       0          0         0                       0   \n",
              "1                   0       0          0         0                       0   \n",
              "2                   0       0          0         0                       0   \n",
              "3                   0       0          0         0                       0   \n",
              "4                   0       0          1         0                       0   \n",
              "\n",
              "   development_process_tools  user_interface  \n",
              "0                          0               0  \n",
              "1                          0               0  \n",
              "2                          0               0  \n",
              "3                          0               0  \n",
              "4                          0               0  "
            ]
          },
          "execution_count": 94,
          "metadata": {},
          "output_type": "execute_result"
        }
      ],
      "source": [
        "test_df = pd.read_csv(\"/content/drive/MyDrive/dataset/test.csv\")\n",
        "#test_labels_df = pd.read_csv('test_labels.csv')\n",
        "#test_df = test_df.merge(test_labels_df, on='id', how='left')\n",
        "test_label_cols = list(test_df.columns[2:])\n",
        "#print('Null values: ', test_df.isnull().values.any()) #should not be any null sentences or labels\n",
        "#print('Same columns between train and test: ', label_cols == test_label_cols) #columns should be the same\n",
        "test_df.head()"
      ]
    },
    {
      "cell_type": "code",
      "execution_count": null,
      "metadata": {
        "colab": {
          "base_uri": "https://localhost:8080/",
          "height": 582
        },
        "id": "77rjCrMGpYxz",
        "outputId": "fe023267-49d2-4471-f016-0c326b6688aa"
      },
      "outputs": [
        {
          "data": {
            "text/html": [
              "\n",
              "  <div id=\"df-1088ae71-3bbf-4539-a859-96862b27f90e\">\n",
              "    <div class=\"colab-df-container\">\n",
              "      <div>\n",
              "<style scoped>\n",
              "    .dataframe tbody tr th:only-of-type {\n",
              "        vertical-align: middle;\n",
              "    }\n",
              "\n",
              "    .dataframe tbody tr th {\n",
              "        vertical-align: top;\n",
              "    }\n",
              "\n",
              "    .dataframe thead th {\n",
              "        text-align: right;\n",
              "    }\n",
              "</style>\n",
              "<table border=\"1\" class=\"dataframe\">\n",
              "  <thead>\n",
              "    <tr style=\"text-align: right;\">\n",
              "      <th></th>\n",
              "      <th>id</th>\n",
              "      <th>comment_text</th>\n",
              "      <th>implementation</th>\n",
              "      <th>architecture</th>\n",
              "      <th>requirements</th>\n",
              "      <th>application_domain_knowledge</th>\n",
              "      <th>execution_platform</th>\n",
              "      <th>design</th>\n",
              "      <th>structure</th>\n",
              "      <th>behavior</th>\n",
              "      <th>data_model_information</th>\n",
              "      <th>development_process_tools</th>\n",
              "      <th>user_interface</th>\n",
              "      <th>one_hot_labels</th>\n",
              "    </tr>\n",
              "  </thead>\n",
              "  <tbody>\n",
              "    <tr>\n",
              "      <th>0</th>\n",
              "      <td>1</td>\n",
              "      <td>the versatility of the instrument including al...</td>\n",
              "      <td>0</td>\n",
              "      <td>0</td>\n",
              "      <td>0</td>\n",
              "      <td>0</td>\n",
              "      <td>0</td>\n",
              "      <td>0</td>\n",
              "      <td>0</td>\n",
              "      <td>0</td>\n",
              "      <td>0</td>\n",
              "      <td>0</td>\n",
              "      <td>0</td>\n",
              "      <td>[0, 0, 0, 0, 0, 0, 0, 0, 0, 0, 0]</td>\n",
              "    </tr>\n",
              "    <tr>\n",
              "      <th>1</th>\n",
              "      <td>2</td>\n",
              "      <td>several systems are defined serving these appl...</td>\n",
              "      <td>0</td>\n",
              "      <td>0</td>\n",
              "      <td>0</td>\n",
              "      <td>1</td>\n",
              "      <td>0</td>\n",
              "      <td>0</td>\n",
              "      <td>0</td>\n",
              "      <td>0</td>\n",
              "      <td>0</td>\n",
              "      <td>0</td>\n",
              "      <td>0</td>\n",
              "      <td>[0, 0, 0, 1, 0, 0, 0, 0, 0, 0, 0]</td>\n",
              "    </tr>\n",
              "    <tr>\n",
              "      <th>2</th>\n",
              "      <td>3</td>\n",
              "      <td>the samples do not need any preparation and co...</td>\n",
              "      <td>0</td>\n",
              "      <td>0</td>\n",
              "      <td>1</td>\n",
              "      <td>0</td>\n",
              "      <td>0</td>\n",
              "      <td>0</td>\n",
              "      <td>0</td>\n",
              "      <td>0</td>\n",
              "      <td>0</td>\n",
              "      <td>0</td>\n",
              "      <td>0</td>\n",
              "      <td>[0, 0, 1, 0, 0, 0, 0, 0, 0, 0, 0]</td>\n",
              "    </tr>\n",
              "    <tr>\n",
              "      <th>3</th>\n",
              "      <td>4</td>\n",
              "      <td>with its tungsten source tip (lifetime 40 hour...</td>\n",
              "      <td>0</td>\n",
              "      <td>0</td>\n",
              "      <td>0</td>\n",
              "      <td>0</td>\n",
              "      <td>0</td>\n",
              "      <td>0</td>\n",
              "      <td>0</td>\n",
              "      <td>0</td>\n",
              "      <td>0</td>\n",
              "      <td>0</td>\n",
              "      <td>0</td>\n",
              "      <td>[0, 0, 0, 0, 0, 0, 0, 0, 0, 0, 0]</td>\n",
              "    </tr>\n",
              "    <tr>\n",
              "      <th>4</th>\n",
              "      <td>5</td>\n",
              "      <td>nova nanolab: this system is equipped with a h...</td>\n",
              "      <td>0</td>\n",
              "      <td>0</td>\n",
              "      <td>0</td>\n",
              "      <td>0</td>\n",
              "      <td>0</td>\n",
              "      <td>0</td>\n",
              "      <td>1</td>\n",
              "      <td>0</td>\n",
              "      <td>0</td>\n",
              "      <td>0</td>\n",
              "      <td>0</td>\n",
              "      <td>[0, 0, 0, 0, 0, 0, 1, 0, 0, 0, 0]</td>\n",
              "    </tr>\n",
              "  </tbody>\n",
              "</table>\n",
              "</div>\n",
              "      <button class=\"colab-df-convert\" onclick=\"convertToInteractive('df-1088ae71-3bbf-4539-a859-96862b27f90e')\"\n",
              "              title=\"Convert this dataframe to an interactive table.\"\n",
              "              style=\"display:none;\">\n",
              "        \n",
              "  <svg xmlns=\"http://www.w3.org/2000/svg\" height=\"24px\"viewBox=\"0 0 24 24\"\n",
              "       width=\"24px\">\n",
              "    <path d=\"M0 0h24v24H0V0z\" fill=\"none\"/>\n",
              "    <path d=\"M18.56 5.44l.94 2.06.94-2.06 2.06-.94-2.06-.94-.94-2.06-.94 2.06-2.06.94zm-11 1L8.5 8.5l.94-2.06 2.06-.94-2.06-.94L8.5 2.5l-.94 2.06-2.06.94zm10 10l.94 2.06.94-2.06 2.06-.94-2.06-.94-.94-2.06-.94 2.06-2.06.94z\"/><path d=\"M17.41 7.96l-1.37-1.37c-.4-.4-.92-.59-1.43-.59-.52 0-1.04.2-1.43.59L10.3 9.45l-7.72 7.72c-.78.78-.78 2.05 0 2.83L4 21.41c.39.39.9.59 1.41.59.51 0 1.02-.2 1.41-.59l7.78-7.78 2.81-2.81c.8-.78.8-2.07 0-2.86zM5.41 20L4 18.59l7.72-7.72 1.47 1.35L5.41 20z\"/>\n",
              "  </svg>\n",
              "      </button>\n",
              "      \n",
              "  <style>\n",
              "    .colab-df-container {\n",
              "      display:flex;\n",
              "      flex-wrap:wrap;\n",
              "      gap: 12px;\n",
              "    }\n",
              "\n",
              "    .colab-df-convert {\n",
              "      background-color: #E8F0FE;\n",
              "      border: none;\n",
              "      border-radius: 50%;\n",
              "      cursor: pointer;\n",
              "      display: none;\n",
              "      fill: #1967D2;\n",
              "      height: 32px;\n",
              "      padding: 0 0 0 0;\n",
              "      width: 32px;\n",
              "    }\n",
              "\n",
              "    .colab-df-convert:hover {\n",
              "      background-color: #E2EBFA;\n",
              "      box-shadow: 0px 1px 2px rgba(60, 64, 67, 0.3), 0px 1px 3px 1px rgba(60, 64, 67, 0.15);\n",
              "      fill: #174EA6;\n",
              "    }\n",
              "\n",
              "    [theme=dark] .colab-df-convert {\n",
              "      background-color: #3B4455;\n",
              "      fill: #D2E3FC;\n",
              "    }\n",
              "\n",
              "    [theme=dark] .colab-df-convert:hover {\n",
              "      background-color: #434B5C;\n",
              "      box-shadow: 0px 1px 3px 1px rgba(0, 0, 0, 0.15);\n",
              "      filter: drop-shadow(0px 1px 2px rgba(0, 0, 0, 0.3));\n",
              "      fill: #FFFFFF;\n",
              "    }\n",
              "  </style>\n",
              "\n",
              "      <script>\n",
              "        const buttonEl =\n",
              "          document.querySelector('#df-1088ae71-3bbf-4539-a859-96862b27f90e button.colab-df-convert');\n",
              "        buttonEl.style.display =\n",
              "          google.colab.kernel.accessAllowed ? 'block' : 'none';\n",
              "\n",
              "        async function convertToInteractive(key) {\n",
              "          const element = document.querySelector('#df-1088ae71-3bbf-4539-a859-96862b27f90e');\n",
              "          const dataTable =\n",
              "            await google.colab.kernel.invokeFunction('convertToInteractive',\n",
              "                                                     [key], {});\n",
              "          if (!dataTable) return;\n",
              "\n",
              "          const docLinkHtml = 'Like what you see? Visit the ' +\n",
              "            '<a target=\"_blank\" href=https://colab.research.google.com/notebooks/data_table.ipynb>data table notebook</a>'\n",
              "            + ' to learn more about interactive tables.';\n",
              "          element.innerHTML = '';\n",
              "          dataTable['output_type'] = 'display_data';\n",
              "          await google.colab.output.renderOutput(dataTable, element);\n",
              "          const docLink = document.createElement('div');\n",
              "          docLink.innerHTML = docLinkHtml;\n",
              "          element.appendChild(docLink);\n",
              "        }\n",
              "      </script>\n",
              "    </div>\n",
              "  </div>\n",
              "  "
            ],
            "text/plain": [
              "   id                                       comment_text  implementation  \\\n",
              "0   1  the versatility of the instrument including al...               0   \n",
              "1   2  several systems are defined serving these appl...               0   \n",
              "2   3  the samples do not need any preparation and co...               0   \n",
              "3   4  with its tungsten source tip (lifetime 40 hour...               0   \n",
              "4   5  nova nanolab: this system is equipped with a h...               0   \n",
              "\n",
              "   architecture  requirements  application_domain_knowledge  \\\n",
              "0             0             0                             0   \n",
              "1             0             0                             1   \n",
              "2             0             1                             0   \n",
              "3             0             0                             0   \n",
              "4             0             0                             0   \n",
              "\n",
              "   execution_platform  design  structure  behavior  data_model_information  \\\n",
              "0                   0       0          0         0                       0   \n",
              "1                   0       0          0         0                       0   \n",
              "2                   0       0          0         0                       0   \n",
              "3                   0       0          0         0                       0   \n",
              "4                   0       0          1         0                       0   \n",
              "\n",
              "   development_process_tools  user_interface  \\\n",
              "0                          0               0   \n",
              "1                          0               0   \n",
              "2                          0               0   \n",
              "3                          0               0   \n",
              "4                          0               0   \n",
              "\n",
              "                      one_hot_labels  \n",
              "0  [0, 0, 0, 0, 0, 0, 0, 0, 0, 0, 0]  \n",
              "1  [0, 0, 0, 1, 0, 0, 0, 0, 0, 0, 0]  \n",
              "2  [0, 0, 1, 0, 0, 0, 0, 0, 0, 0, 0]  \n",
              "3  [0, 0, 0, 0, 0, 0, 0, 0, 0, 0, 0]  \n",
              "4  [0, 0, 0, 0, 0, 0, 1, 0, 0, 0, 0]  "
            ]
          },
          "execution_count": 95,
          "metadata": {},
          "output_type": "execute_result"
        }
      ],
      "source": [
        "test_df = test_df[~test_df[test_label_cols].eq(-1).any(axis=1)] #remove irrelevant rows/comments with -1 values\n",
        "test_df['one_hot_labels'] = list(test_df[test_label_cols].values)\n",
        "test_df.head()"
      ]
    },
    {
      "cell_type": "code",
      "execution_count": null,
      "metadata": {
        "id": "1a41OmU2i7qp"
      },
      "outputs": [],
      "source": [
        "# Gathering input data\n",
        "test_labels = list(test_df.one_hot_labels.values)\n",
        "test_comments = list(test_df.comment_text.values)"
      ]
    },
    {
      "cell_type": "code",
      "execution_count": null,
      "metadata": {
        "colab": {
          "base_uri": "https://localhost:8080/"
        },
        "id": "amySMO8EQzf2",
        "outputId": "870a33e5-2e7d-4f1e-b9bc-8224d52df139"
      },
      "outputs": [
        {
          "name": "stderr",
          "output_type": "stream",
          "text": [
            "/usr/local/lib/python3.7/dist-packages/transformers/tokenization_utils_base.py:2307: FutureWarning: The `pad_to_max_length` argument is deprecated and will be removed in a future version, use `padding=True` or `padding='longest'` to pad to the longest sequence in the batch, or use `padding='max_length'` to pad to a max length. In this case, you can give a specific length with `max_length` (e.g. `max_length=45`) or leave max_length to None to pad to the maximal input size of the model (e.g. 512 for Bert).\n",
            "  FutureWarning,\n"
          ]
        }
      ],
      "source": [
        "# Encoding input data\n",
        "test_encodings = tokenizer.batch_encode_plus(test_comments,max_length=max_length,pad_to_max_length=True)\n",
        "test_input_ids = test_encodings['input_ids']\n",
        "test_token_type_ids = test_encodings['token_type_ids']\n",
        "test_attention_masks = test_encodings['attention_mask']"
      ]
    },
    {
      "cell_type": "code",
      "execution_count": null,
      "metadata": {
        "id": "hqOfi9fkRaRN"
      },
      "outputs": [],
      "source": [
        "# Make tensors out of data\n",
        "test_inputs = torch.tensor(test_input_ids)\n",
        "test_labels = torch.tensor(test_labels)\n",
        "test_masks = torch.tensor(test_attention_masks)\n",
        "test_token_types = torch.tensor(test_token_type_ids)\n",
        "# Create test dataloader\n",
        "test_data = TensorDataset(test_inputs, test_masks, test_labels, test_token_types)\n",
        "test_sampler = SequentialSampler(test_data)\n",
        "test_dataloader = DataLoader(test_data, sampler=test_sampler, batch_size=batch_size)\n",
        "# Save test dataloader\n",
        "torch.save(test_dataloader,'test_data_loader')"
      ]
    },
    {
      "cell_type": "markdown",
      "metadata": {
        "id": "PFTWxCA_GBau"
      },
      "source": [
        "## Prediction and Metics"
      ]
    },
    {
      "cell_type": "code",
      "execution_count": null,
      "metadata": {
        "id": "NPvrL6OFSQvf"
      },
      "outputs": [],
      "source": [
        "# Test\n",
        "\n",
        "# Put model in evaluation mode to evaluate loss on the validation set\n",
        "model.eval()\n",
        "\n",
        "#track variables\n",
        "logit_preds,true_labels,pred_labels,tokenized_texts = [],[],[],[]\n",
        "\n",
        "# Predict\n",
        "for i, batch in enumerate(test_dataloader):\n",
        "  batch = tuple(t.to(device) for t in batch)\n",
        "  # Unpack the inputs from our dataloader\n",
        "  b_input_ids, b_input_mask, b_labels, b_token_types = batch\n",
        "  with torch.no_grad():\n",
        "    # Forward pass\n",
        "    outs = model(b_input_ids, token_type_ids=None, attention_mask=b_input_mask)\n",
        "    b_logit_pred = outs[0]\n",
        "    pred_label = torch.sigmoid(b_logit_pred)\n",
        "\n",
        "    b_logit_pred = b_logit_pred.detach().cpu().numpy()\n",
        "    pred_label = pred_label.to('cpu').numpy()\n",
        "    b_labels = b_labels.to('cpu').numpy()\n",
        "\n",
        "  tokenized_texts.append(b_input_ids)\n",
        "  logit_preds.append(b_logit_pred)\n",
        "  true_labels.append(b_labels)\n",
        "  pred_labels.append(pred_label)\n",
        "\n",
        "# Flatten outputs\n",
        "tokenized_texts = [item for sublist in tokenized_texts for item in sublist]\n",
        "pred_labels = [item for sublist in pred_labels for item in sublist]\n",
        "true_labels = [item for sublist in true_labels for item in sublist]\n",
        "# Converting flattened binary values to boolean values\n",
        "true_bools = [tl==1 for tl in true_labels]"
      ]
    },
    {
      "cell_type": "markdown",
      "metadata": {
        "id": "bQeGWqeMzAoZ"
      },
      "source": [
        "We need to threshold our sigmoid function outputs which range from [0, 1]. Below I use 0.50 as a threshold."
      ]
    },
    {
      "cell_type": "code",
      "execution_count": null,
      "metadata": {
        "colab": {
          "base_uri": "https://localhost:8080/"
        },
        "id": "BZcZUcYOxxmM",
        "outputId": "27a22760-45e2-467f-ff06-f2970cf094ce"
      },
      "outputs": [
        {
          "name": "stdout",
          "output_type": "stream",
          "text": [
            "Test F1 Accuracy:  0.42400000000000004\n",
            "Test Flat Accuracy:  0.40069686411149824 \n",
            "\n",
            "                              precision    recall  f1-score   support\n",
            "\n",
            "              implementation       0.17      0.67      0.27         9\n",
            "                architecture       1.00      0.25      0.40        48\n",
            "                requirements       0.89      0.58      0.70        88\n",
            "application_domain_knowledge       0.00      0.00      0.00        13\n",
            "          execution_platform       1.00      1.00      1.00         1\n",
            "                      design       0.00      0.00      0.00        25\n",
            "                   structure       1.00      0.25      0.40        65\n",
            "                    behavior       0.33      0.32      0.32        53\n",
            "      data_model_information       0.00      0.00      0.00         2\n",
            "   development_process_tools       0.00      0.00      0.00         4\n",
            "              user_interface       0.25      0.43      0.32         7\n",
            "\n",
            "                   micro avg       0.57      0.34      0.42       315\n",
            "                   macro avg       0.42      0.32      0.31       315\n",
            "                weighted avg       0.68      0.34      0.41       315\n",
            "                 samples avg       0.30      0.30      0.30       315\n",
            "\n"
          ]
        },
        {
          "name": "stderr",
          "output_type": "stream",
          "text": [
            "/usr/local/lib/python3.7/dist-packages/sklearn/metrics/_classification.py:1318: UndefinedMetricWarning: Precision and F-score are ill-defined and being set to 0.0 in labels with no predicted samples. Use `zero_division` parameter to control this behavior.\n",
            "  _warn_prf(average, modifier, msg_start, len(result))\n",
            "/usr/local/lib/python3.7/dist-packages/sklearn/metrics/_classification.py:1318: UndefinedMetricWarning: Precision and F-score are ill-defined and being set to 0.0 in samples with no predicted labels. Use `zero_division` parameter to control this behavior.\n",
            "  _warn_prf(average, modifier, msg_start, len(result))\n",
            "/usr/local/lib/python3.7/dist-packages/sklearn/metrics/_classification.py:1318: UndefinedMetricWarning: Recall and F-score are ill-defined and being set to 0.0 in samples with no true labels. Use `zero_division` parameter to control this behavior.\n",
            "  _warn_prf(average, modifier, msg_start, len(result))\n"
          ]
        }
      ],
      "source": [
        "pred_bools = [pl>0.50 for pl in pred_labels] #boolean output after thresholding\n",
        "\n",
        "# Print and save classification report\n",
        "print('Test F1 Accuracy: ', f1_score(true_bools, pred_bools,average='micro'))\n",
        "print('Test Flat Accuracy: ', accuracy_score(true_bools, pred_bools),'\\n')\n",
        "clf_report = classification_report(true_bools,pred_bools,target_names=test_label_cols)\n",
        "pickle.dump(clf_report, open('classification_report.txt','wb')) #save report\n",
        "print(clf_report)"
      ]
    }
  ],
  "metadata": {
    "accelerator": "GPU",
    "colab": {
      "collapsed_sections": [],
      "name": "final_project.ipynb",
      "provenance": []
    },
    "kernelspec": {
      "display_name": "Python 3.9.5 ('base')",
      "language": "python",
      "name": "python3"
    },
    "language_info": {
      "codemirror_mode": {
        "name": "ipython",
        "version": 3
      },
      "file_extension": ".py",
      "mimetype": "text/x-python",
      "name": "python",
      "nbconvert_exporter": "python",
      "pygments_lexer": "ipython3",
      "version": "3.9.5"
    },
    "vscode": {
      "interpreter": {
        "hash": "3aea9d04d643a3dad58bd6e15bcfdd921ab432a7c2b9a15d89f108cc0c05ed72"
      }
    },
    "widgets": {
      "application/vnd.jupyter.widget-state+json": {
        "199746b6826a4814896bba7dd8f7c38b": {
          "model_module": "@jupyter-widgets/controls",
          "model_module_version": "1.5.0",
          "model_name": "HTMLModel",
          "state": {
            "_dom_classes": [],
            "_model_module": "@jupyter-widgets/controls",
            "_model_module_version": "1.5.0",
            "_model_name": "HTMLModel",
            "_view_count": null,
            "_view_module": "@jupyter-widgets/controls",
            "_view_module_version": "1.5.0",
            "_view_name": "HTMLView",
            "description": "",
            "description_tooltip": null,
            "layout": "IPY_MODEL_34ec92699fc84c25a9ddfad9db81c229",
            "placeholder": "​",
            "style": "IPY_MODEL_5aa3e38ebcd44ae6915ef0dc39850c42",
            "value": "Downloading: 100%"
          }
        },
        "1cd934b794f34a9ab49976c950ec4783": {
          "model_module": "@jupyter-widgets/base",
          "model_module_version": "1.2.0",
          "model_name": "LayoutModel",
          "state": {
            "_model_module": "@jupyter-widgets/base",
            "_model_module_version": "1.2.0",
            "_model_name": "LayoutModel",
            "_view_count": null,
            "_view_module": "@jupyter-widgets/base",
            "_view_module_version": "1.2.0",
            "_view_name": "LayoutView",
            "align_content": null,
            "align_items": null,
            "align_self": null,
            "border": null,
            "bottom": null,
            "display": null,
            "flex": null,
            "flex_flow": null,
            "grid_area": null,
            "grid_auto_columns": null,
            "grid_auto_flow": null,
            "grid_auto_rows": null,
            "grid_column": null,
            "grid_gap": null,
            "grid_row": null,
            "grid_template_areas": null,
            "grid_template_columns": null,
            "grid_template_rows": null,
            "height": null,
            "justify_content": null,
            "justify_items": null,
            "left": null,
            "margin": null,
            "max_height": null,
            "max_width": null,
            "min_height": null,
            "min_width": null,
            "object_fit": null,
            "object_position": null,
            "order": null,
            "overflow": null,
            "overflow_x": null,
            "overflow_y": null,
            "padding": null,
            "right": null,
            "top": null,
            "visibility": null,
            "width": null
          }
        },
        "20b40533fc514b99918143121bafe287": {
          "model_module": "@jupyter-widgets/controls",
          "model_module_version": "1.5.0",
          "model_name": "HBoxModel",
          "state": {
            "_dom_classes": [],
            "_model_module": "@jupyter-widgets/controls",
            "_model_module_version": "1.5.0",
            "_model_name": "HBoxModel",
            "_view_count": null,
            "_view_module": "@jupyter-widgets/controls",
            "_view_module_version": "1.5.0",
            "_view_name": "HBoxView",
            "box_style": "",
            "children": [
              "IPY_MODEL_199746b6826a4814896bba7dd8f7c38b",
              "IPY_MODEL_a047b39beda24a96a012e77edada5fa6",
              "IPY_MODEL_b83d96c05c1241218ac000aca67047bd"
            ],
            "layout": "IPY_MODEL_4fa92c5acaab465a9689b715cb38f212"
          }
        },
        "24fcc4c5bff24d97a5a2eb9dc4a0fb15": {
          "model_module": "@jupyter-widgets/controls",
          "model_module_version": "1.5.0",
          "model_name": "DescriptionStyleModel",
          "state": {
            "_model_module": "@jupyter-widgets/controls",
            "_model_module_version": "1.5.0",
            "_model_name": "DescriptionStyleModel",
            "_view_count": null,
            "_view_module": "@jupyter-widgets/base",
            "_view_module_version": "1.2.0",
            "_view_name": "StyleView",
            "description_width": ""
          }
        },
        "2aaf1dd5ad834241bd2d366b1d262fa2": {
          "model_module": "@jupyter-widgets/controls",
          "model_module_version": "1.5.0",
          "model_name": "HBoxModel",
          "state": {
            "_dom_classes": [],
            "_model_module": "@jupyter-widgets/controls",
            "_model_module_version": "1.5.0",
            "_model_name": "HBoxModel",
            "_view_count": null,
            "_view_module": "@jupyter-widgets/controls",
            "_view_module_version": "1.5.0",
            "_view_name": "HBoxView",
            "box_style": "",
            "children": [
              "IPY_MODEL_91ea1852e3d24effb90d55b18f707728",
              "IPY_MODEL_9a331ff6f2e24844af8478b58188b853",
              "IPY_MODEL_f4bdccf538714dbda0a29cabe63e5970"
            ],
            "layout": "IPY_MODEL_90a3180d2b8c4ea78463bdb2d6306eba"
          }
        },
        "34ec92699fc84c25a9ddfad9db81c229": {
          "model_module": "@jupyter-widgets/base",
          "model_module_version": "1.2.0",
          "model_name": "LayoutModel",
          "state": {
            "_model_module": "@jupyter-widgets/base",
            "_model_module_version": "1.2.0",
            "_model_name": "LayoutModel",
            "_view_count": null,
            "_view_module": "@jupyter-widgets/base",
            "_view_module_version": "1.2.0",
            "_view_name": "LayoutView",
            "align_content": null,
            "align_items": null,
            "align_self": null,
            "border": null,
            "bottom": null,
            "display": null,
            "flex": null,
            "flex_flow": null,
            "grid_area": null,
            "grid_auto_columns": null,
            "grid_auto_flow": null,
            "grid_auto_rows": null,
            "grid_column": null,
            "grid_gap": null,
            "grid_row": null,
            "grid_template_areas": null,
            "grid_template_columns": null,
            "grid_template_rows": null,
            "height": null,
            "justify_content": null,
            "justify_items": null,
            "left": null,
            "margin": null,
            "max_height": null,
            "max_width": null,
            "min_height": null,
            "min_width": null,
            "object_fit": null,
            "object_position": null,
            "order": null,
            "overflow": null,
            "overflow_x": null,
            "overflow_y": null,
            "padding": null,
            "right": null,
            "top": null,
            "visibility": null,
            "width": null
          }
        },
        "3a8c00c4a21c45de9f666f1c709699b6": {
          "model_module": "@jupyter-widgets/base",
          "model_module_version": "1.2.0",
          "model_name": "LayoutModel",
          "state": {
            "_model_module": "@jupyter-widgets/base",
            "_model_module_version": "1.2.0",
            "_model_name": "LayoutModel",
            "_view_count": null,
            "_view_module": "@jupyter-widgets/base",
            "_view_module_version": "1.2.0",
            "_view_name": "LayoutView",
            "align_content": null,
            "align_items": null,
            "align_self": null,
            "border": null,
            "bottom": null,
            "display": null,
            "flex": null,
            "flex_flow": null,
            "grid_area": null,
            "grid_auto_columns": null,
            "grid_auto_flow": null,
            "grid_auto_rows": null,
            "grid_column": null,
            "grid_gap": null,
            "grid_row": null,
            "grid_template_areas": null,
            "grid_template_columns": null,
            "grid_template_rows": null,
            "height": null,
            "justify_content": null,
            "justify_items": null,
            "left": null,
            "margin": null,
            "max_height": null,
            "max_width": null,
            "min_height": null,
            "min_width": null,
            "object_fit": null,
            "object_position": null,
            "order": null,
            "overflow": null,
            "overflow_x": null,
            "overflow_y": null,
            "padding": null,
            "right": null,
            "top": null,
            "visibility": null,
            "width": null
          }
        },
        "46d89373c9044a57bb96ae043090496f": {
          "model_module": "@jupyter-widgets/base",
          "model_module_version": "1.2.0",
          "model_name": "LayoutModel",
          "state": {
            "_model_module": "@jupyter-widgets/base",
            "_model_module_version": "1.2.0",
            "_model_name": "LayoutModel",
            "_view_count": null,
            "_view_module": "@jupyter-widgets/base",
            "_view_module_version": "1.2.0",
            "_view_name": "LayoutView",
            "align_content": null,
            "align_items": null,
            "align_self": null,
            "border": null,
            "bottom": null,
            "display": null,
            "flex": null,
            "flex_flow": null,
            "grid_area": null,
            "grid_auto_columns": null,
            "grid_auto_flow": null,
            "grid_auto_rows": null,
            "grid_column": null,
            "grid_gap": null,
            "grid_row": null,
            "grid_template_areas": null,
            "grid_template_columns": null,
            "grid_template_rows": null,
            "height": null,
            "justify_content": null,
            "justify_items": null,
            "left": null,
            "margin": null,
            "max_height": null,
            "max_width": null,
            "min_height": null,
            "min_width": null,
            "object_fit": null,
            "object_position": null,
            "order": null,
            "overflow": null,
            "overflow_x": null,
            "overflow_y": null,
            "padding": null,
            "right": null,
            "top": null,
            "visibility": null,
            "width": null
          }
        },
        "4cda06daf2b34361bab715e73dc504f8": {
          "model_module": "@jupyter-widgets/base",
          "model_module_version": "1.2.0",
          "model_name": "LayoutModel",
          "state": {
            "_model_module": "@jupyter-widgets/base",
            "_model_module_version": "1.2.0",
            "_model_name": "LayoutModel",
            "_view_count": null,
            "_view_module": "@jupyter-widgets/base",
            "_view_module_version": "1.2.0",
            "_view_name": "LayoutView",
            "align_content": null,
            "align_items": null,
            "align_self": null,
            "border": null,
            "bottom": null,
            "display": null,
            "flex": null,
            "flex_flow": null,
            "grid_area": null,
            "grid_auto_columns": null,
            "grid_auto_flow": null,
            "grid_auto_rows": null,
            "grid_column": null,
            "grid_gap": null,
            "grid_row": null,
            "grid_template_areas": null,
            "grid_template_columns": null,
            "grid_template_rows": null,
            "height": null,
            "justify_content": null,
            "justify_items": null,
            "left": null,
            "margin": null,
            "max_height": null,
            "max_width": null,
            "min_height": null,
            "min_width": null,
            "object_fit": null,
            "object_position": null,
            "order": null,
            "overflow": null,
            "overflow_x": null,
            "overflow_y": null,
            "padding": null,
            "right": null,
            "top": null,
            "visibility": null,
            "width": null
          }
        },
        "4fa92c5acaab465a9689b715cb38f212": {
          "model_module": "@jupyter-widgets/base",
          "model_module_version": "1.2.0",
          "model_name": "LayoutModel",
          "state": {
            "_model_module": "@jupyter-widgets/base",
            "_model_module_version": "1.2.0",
            "_model_name": "LayoutModel",
            "_view_count": null,
            "_view_module": "@jupyter-widgets/base",
            "_view_module_version": "1.2.0",
            "_view_name": "LayoutView",
            "align_content": null,
            "align_items": null,
            "align_self": null,
            "border": null,
            "bottom": null,
            "display": null,
            "flex": null,
            "flex_flow": null,
            "grid_area": null,
            "grid_auto_columns": null,
            "grid_auto_flow": null,
            "grid_auto_rows": null,
            "grid_column": null,
            "grid_gap": null,
            "grid_row": null,
            "grid_template_areas": null,
            "grid_template_columns": null,
            "grid_template_rows": null,
            "height": null,
            "justify_content": null,
            "justify_items": null,
            "left": null,
            "margin": null,
            "max_height": null,
            "max_width": null,
            "min_height": null,
            "min_width": null,
            "object_fit": null,
            "object_position": null,
            "order": null,
            "overflow": null,
            "overflow_x": null,
            "overflow_y": null,
            "padding": null,
            "right": null,
            "top": null,
            "visibility": null,
            "width": null
          }
        },
        "522925768298438e9ed26f129fd0f4c2": {
          "model_module": "@jupyter-widgets/base",
          "model_module_version": "1.2.0",
          "model_name": "LayoutModel",
          "state": {
            "_model_module": "@jupyter-widgets/base",
            "_model_module_version": "1.2.0",
            "_model_name": "LayoutModel",
            "_view_count": null,
            "_view_module": "@jupyter-widgets/base",
            "_view_module_version": "1.2.0",
            "_view_name": "LayoutView",
            "align_content": null,
            "align_items": null,
            "align_self": null,
            "border": null,
            "bottom": null,
            "display": null,
            "flex": null,
            "flex_flow": null,
            "grid_area": null,
            "grid_auto_columns": null,
            "grid_auto_flow": null,
            "grid_auto_rows": null,
            "grid_column": null,
            "grid_gap": null,
            "grid_row": null,
            "grid_template_areas": null,
            "grid_template_columns": null,
            "grid_template_rows": null,
            "height": null,
            "justify_content": null,
            "justify_items": null,
            "left": null,
            "margin": null,
            "max_height": null,
            "max_width": null,
            "min_height": null,
            "min_width": null,
            "object_fit": null,
            "object_position": null,
            "order": null,
            "overflow": null,
            "overflow_x": null,
            "overflow_y": null,
            "padding": null,
            "right": null,
            "top": null,
            "visibility": null,
            "width": null
          }
        },
        "59f275c96c0a478494eba6526bd29b3c": {
          "model_module": "@jupyter-widgets/controls",
          "model_module_version": "1.5.0",
          "model_name": "DescriptionStyleModel",
          "state": {
            "_model_module": "@jupyter-widgets/controls",
            "_model_module_version": "1.5.0",
            "_model_name": "DescriptionStyleModel",
            "_view_count": null,
            "_view_module": "@jupyter-widgets/base",
            "_view_module_version": "1.2.0",
            "_view_name": "StyleView",
            "description_width": ""
          }
        },
        "5aa3e38ebcd44ae6915ef0dc39850c42": {
          "model_module": "@jupyter-widgets/controls",
          "model_module_version": "1.5.0",
          "model_name": "DescriptionStyleModel",
          "state": {
            "_model_module": "@jupyter-widgets/controls",
            "_model_module_version": "1.5.0",
            "_model_name": "DescriptionStyleModel",
            "_view_count": null,
            "_view_module": "@jupyter-widgets/base",
            "_view_module_version": "1.2.0",
            "_view_name": "StyleView",
            "description_width": ""
          }
        },
        "61b114927a8f454abf9e628549b90db2": {
          "model_module": "@jupyter-widgets/controls",
          "model_module_version": "1.5.0",
          "model_name": "DescriptionStyleModel",
          "state": {
            "_model_module": "@jupyter-widgets/controls",
            "_model_module_version": "1.5.0",
            "_model_name": "DescriptionStyleModel",
            "_view_count": null,
            "_view_module": "@jupyter-widgets/base",
            "_view_module_version": "1.2.0",
            "_view_name": "StyleView",
            "description_width": ""
          }
        },
        "642c742ef43a44829e4e092cd61e016c": {
          "model_module": "@jupyter-widgets/base",
          "model_module_version": "1.2.0",
          "model_name": "LayoutModel",
          "state": {
            "_model_module": "@jupyter-widgets/base",
            "_model_module_version": "1.2.0",
            "_model_name": "LayoutModel",
            "_view_count": null,
            "_view_module": "@jupyter-widgets/base",
            "_view_module_version": "1.2.0",
            "_view_name": "LayoutView",
            "align_content": null,
            "align_items": null,
            "align_self": null,
            "border": null,
            "bottom": null,
            "display": null,
            "flex": null,
            "flex_flow": null,
            "grid_area": null,
            "grid_auto_columns": null,
            "grid_auto_flow": null,
            "grid_auto_rows": null,
            "grid_column": null,
            "grid_gap": null,
            "grid_row": null,
            "grid_template_areas": null,
            "grid_template_columns": null,
            "grid_template_rows": null,
            "height": null,
            "justify_content": null,
            "justify_items": null,
            "left": null,
            "margin": null,
            "max_height": null,
            "max_width": null,
            "min_height": null,
            "min_width": null,
            "object_fit": null,
            "object_position": null,
            "order": null,
            "overflow": null,
            "overflow_x": null,
            "overflow_y": null,
            "padding": null,
            "right": null,
            "top": null,
            "visibility": null,
            "width": null
          }
        },
        "6806488b9a4543baa36ae394d61eaa52": {
          "model_module": "@jupyter-widgets/controls",
          "model_module_version": "1.5.0",
          "model_name": "DescriptionStyleModel",
          "state": {
            "_model_module": "@jupyter-widgets/controls",
            "_model_module_version": "1.5.0",
            "_model_name": "DescriptionStyleModel",
            "_view_count": null,
            "_view_module": "@jupyter-widgets/base",
            "_view_module_version": "1.2.0",
            "_view_name": "StyleView",
            "description_width": ""
          }
        },
        "6c341df888ea44ba88a96b5c8aabf0af": {
          "model_module": "@jupyter-widgets/base",
          "model_module_version": "1.2.0",
          "model_name": "LayoutModel",
          "state": {
            "_model_module": "@jupyter-widgets/base",
            "_model_module_version": "1.2.0",
            "_model_name": "LayoutModel",
            "_view_count": null,
            "_view_module": "@jupyter-widgets/base",
            "_view_module_version": "1.2.0",
            "_view_name": "LayoutView",
            "align_content": null,
            "align_items": null,
            "align_self": null,
            "border": null,
            "bottom": null,
            "display": null,
            "flex": null,
            "flex_flow": null,
            "grid_area": null,
            "grid_auto_columns": null,
            "grid_auto_flow": null,
            "grid_auto_rows": null,
            "grid_column": null,
            "grid_gap": null,
            "grid_row": null,
            "grid_template_areas": null,
            "grid_template_columns": null,
            "grid_template_rows": null,
            "height": null,
            "justify_content": null,
            "justify_items": null,
            "left": null,
            "margin": null,
            "max_height": null,
            "max_width": null,
            "min_height": null,
            "min_width": null,
            "object_fit": null,
            "object_position": null,
            "order": null,
            "overflow": null,
            "overflow_x": null,
            "overflow_y": null,
            "padding": null,
            "right": null,
            "top": null,
            "visibility": null,
            "width": null
          }
        },
        "750e10225f404b46bd4a830aa6ba2eaa": {
          "model_module": "@jupyter-widgets/controls",
          "model_module_version": "1.5.0",
          "model_name": "ProgressStyleModel",
          "state": {
            "_model_module": "@jupyter-widgets/controls",
            "_model_module_version": "1.5.0",
            "_model_name": "ProgressStyleModel",
            "_view_count": null,
            "_view_module": "@jupyter-widgets/base",
            "_view_module_version": "1.2.0",
            "_view_name": "StyleView",
            "bar_color": null,
            "description_width": ""
          }
        },
        "775a2fe7d8244cf0bb940e68a160c086": {
          "model_module": "@jupyter-widgets/base",
          "model_module_version": "1.2.0",
          "model_name": "LayoutModel",
          "state": {
            "_model_module": "@jupyter-widgets/base",
            "_model_module_version": "1.2.0",
            "_model_name": "LayoutModel",
            "_view_count": null,
            "_view_module": "@jupyter-widgets/base",
            "_view_module_version": "1.2.0",
            "_view_name": "LayoutView",
            "align_content": null,
            "align_items": null,
            "align_self": null,
            "border": null,
            "bottom": null,
            "display": null,
            "flex": null,
            "flex_flow": null,
            "grid_area": null,
            "grid_auto_columns": null,
            "grid_auto_flow": null,
            "grid_auto_rows": null,
            "grid_column": null,
            "grid_gap": null,
            "grid_row": null,
            "grid_template_areas": null,
            "grid_template_columns": null,
            "grid_template_rows": null,
            "height": null,
            "justify_content": null,
            "justify_items": null,
            "left": null,
            "margin": null,
            "max_height": null,
            "max_width": null,
            "min_height": null,
            "min_width": null,
            "object_fit": null,
            "object_position": null,
            "order": null,
            "overflow": null,
            "overflow_x": null,
            "overflow_y": null,
            "padding": null,
            "right": null,
            "top": null,
            "visibility": null,
            "width": null
          }
        },
        "7e27bceb50af4f36a761a0968afd24bf": {
          "model_module": "@jupyter-widgets/controls",
          "model_module_version": "1.5.0",
          "model_name": "HTMLModel",
          "state": {
            "_dom_classes": [],
            "_model_module": "@jupyter-widgets/controls",
            "_model_module_version": "1.5.0",
            "_model_name": "HTMLModel",
            "_view_count": null,
            "_view_module": "@jupyter-widgets/controls",
            "_view_module_version": "1.5.0",
            "_view_name": "HTMLView",
            "description": "",
            "description_tooltip": null,
            "layout": "IPY_MODEL_4cda06daf2b34361bab715e73dc504f8",
            "placeholder": "​",
            "style": "IPY_MODEL_8ef5874e3ac942f489747681ee902b4f",
            "value": " 28.0/28.0 [00:00&lt;00:00, 798B/s]"
          }
        },
        "8ef5874e3ac942f489747681ee902b4f": {
          "model_module": "@jupyter-widgets/controls",
          "model_module_version": "1.5.0",
          "model_name": "DescriptionStyleModel",
          "state": {
            "_model_module": "@jupyter-widgets/controls",
            "_model_module_version": "1.5.0",
            "_model_name": "DescriptionStyleModel",
            "_view_count": null,
            "_view_module": "@jupyter-widgets/base",
            "_view_module_version": "1.2.0",
            "_view_name": "StyleView",
            "description_width": ""
          }
        },
        "9050bbd012cf49a28e71cd5ad0cfcd17": {
          "model_module": "@jupyter-widgets/base",
          "model_module_version": "1.2.0",
          "model_name": "LayoutModel",
          "state": {
            "_model_module": "@jupyter-widgets/base",
            "_model_module_version": "1.2.0",
            "_model_name": "LayoutModel",
            "_view_count": null,
            "_view_module": "@jupyter-widgets/base",
            "_view_module_version": "1.2.0",
            "_view_name": "LayoutView",
            "align_content": null,
            "align_items": null,
            "align_self": null,
            "border": null,
            "bottom": null,
            "display": null,
            "flex": null,
            "flex_flow": null,
            "grid_area": null,
            "grid_auto_columns": null,
            "grid_auto_flow": null,
            "grid_auto_rows": null,
            "grid_column": null,
            "grid_gap": null,
            "grid_row": null,
            "grid_template_areas": null,
            "grid_template_columns": null,
            "grid_template_rows": null,
            "height": null,
            "justify_content": null,
            "justify_items": null,
            "left": null,
            "margin": null,
            "max_height": null,
            "max_width": null,
            "min_height": null,
            "min_width": null,
            "object_fit": null,
            "object_position": null,
            "order": null,
            "overflow": null,
            "overflow_x": null,
            "overflow_y": null,
            "padding": null,
            "right": null,
            "top": null,
            "visibility": null,
            "width": null
          }
        },
        "90a3180d2b8c4ea78463bdb2d6306eba": {
          "model_module": "@jupyter-widgets/base",
          "model_module_version": "1.2.0",
          "model_name": "LayoutModel",
          "state": {
            "_model_module": "@jupyter-widgets/base",
            "_model_module_version": "1.2.0",
            "_model_name": "LayoutModel",
            "_view_count": null,
            "_view_module": "@jupyter-widgets/base",
            "_view_module_version": "1.2.0",
            "_view_name": "LayoutView",
            "align_content": null,
            "align_items": null,
            "align_self": null,
            "border": null,
            "bottom": null,
            "display": null,
            "flex": null,
            "flex_flow": null,
            "grid_area": null,
            "grid_auto_columns": null,
            "grid_auto_flow": null,
            "grid_auto_rows": null,
            "grid_column": null,
            "grid_gap": null,
            "grid_row": null,
            "grid_template_areas": null,
            "grid_template_columns": null,
            "grid_template_rows": null,
            "height": null,
            "justify_content": null,
            "justify_items": null,
            "left": null,
            "margin": null,
            "max_height": null,
            "max_width": null,
            "min_height": null,
            "min_width": null,
            "object_fit": null,
            "object_position": null,
            "order": null,
            "overflow": null,
            "overflow_x": null,
            "overflow_y": null,
            "padding": null,
            "right": null,
            "top": null,
            "visibility": null,
            "width": null
          }
        },
        "91ea1852e3d24effb90d55b18f707728": {
          "model_module": "@jupyter-widgets/controls",
          "model_module_version": "1.5.0",
          "model_name": "HTMLModel",
          "state": {
            "_dom_classes": [],
            "_model_module": "@jupyter-widgets/controls",
            "_model_module_version": "1.5.0",
            "_model_name": "HTMLModel",
            "_view_count": null,
            "_view_module": "@jupyter-widgets/controls",
            "_view_module_version": "1.5.0",
            "_view_name": "HTMLView",
            "description": "",
            "description_tooltip": null,
            "layout": "IPY_MODEL_6c341df888ea44ba88a96b5c8aabf0af",
            "placeholder": "​",
            "style": "IPY_MODEL_6806488b9a4543baa36ae394d61eaa52",
            "value": "Downloading: 100%"
          }
        },
        "93c0db6ce4fe4ee493fda2d6cc519ddf": {
          "model_module": "@jupyter-widgets/controls",
          "model_module_version": "1.5.0",
          "model_name": "ProgressStyleModel",
          "state": {
            "_model_module": "@jupyter-widgets/controls",
            "_model_module_version": "1.5.0",
            "_model_name": "ProgressStyleModel",
            "_view_count": null,
            "_view_module": "@jupyter-widgets/base",
            "_view_module_version": "1.2.0",
            "_view_name": "StyleView",
            "bar_color": null,
            "description_width": ""
          }
        },
        "943092d7f21b46f0b76c30699251457d": {
          "model_module": "@jupyter-widgets/base",
          "model_module_version": "1.2.0",
          "model_name": "LayoutModel",
          "state": {
            "_model_module": "@jupyter-widgets/base",
            "_model_module_version": "1.2.0",
            "_model_name": "LayoutModel",
            "_view_count": null,
            "_view_module": "@jupyter-widgets/base",
            "_view_module_version": "1.2.0",
            "_view_name": "LayoutView",
            "align_content": null,
            "align_items": null,
            "align_self": null,
            "border": null,
            "bottom": null,
            "display": null,
            "flex": null,
            "flex_flow": null,
            "grid_area": null,
            "grid_auto_columns": null,
            "grid_auto_flow": null,
            "grid_auto_rows": null,
            "grid_column": null,
            "grid_gap": null,
            "grid_row": null,
            "grid_template_areas": null,
            "grid_template_columns": null,
            "grid_template_rows": null,
            "height": null,
            "justify_content": null,
            "justify_items": null,
            "left": null,
            "margin": null,
            "max_height": null,
            "max_width": null,
            "min_height": null,
            "min_width": null,
            "object_fit": null,
            "object_position": null,
            "order": null,
            "overflow": null,
            "overflow_x": null,
            "overflow_y": null,
            "padding": null,
            "right": null,
            "top": null,
            "visibility": null,
            "width": null
          }
        },
        "94b5bad94da74e0ebbe65de86eda23b9": {
          "model_module": "@jupyter-widgets/controls",
          "model_module_version": "1.5.0",
          "model_name": "FloatProgressModel",
          "state": {
            "_dom_classes": [],
            "_model_module": "@jupyter-widgets/controls",
            "_model_module_version": "1.5.0",
            "_model_name": "FloatProgressModel",
            "_view_count": null,
            "_view_module": "@jupyter-widgets/controls",
            "_view_module_version": "1.5.0",
            "_view_name": "ProgressView",
            "bar_style": "success",
            "description": "",
            "description_tooltip": null,
            "layout": "IPY_MODEL_deb7da40c4f54a2dbe472e815cc56ecc",
            "max": 28,
            "min": 0,
            "orientation": "horizontal",
            "style": "IPY_MODEL_972f3f1bc14948548ea8a91e5ec841e1",
            "value": 28
          }
        },
        "94c05ce028134b68b28443081bff667a": {
          "model_module": "@jupyter-widgets/base",
          "model_module_version": "1.2.0",
          "model_name": "LayoutModel",
          "state": {
            "_model_module": "@jupyter-widgets/base",
            "_model_module_version": "1.2.0",
            "_model_name": "LayoutModel",
            "_view_count": null,
            "_view_module": "@jupyter-widgets/base",
            "_view_module_version": "1.2.0",
            "_view_name": "LayoutView",
            "align_content": null,
            "align_items": null,
            "align_self": null,
            "border": null,
            "bottom": null,
            "display": null,
            "flex": null,
            "flex_flow": null,
            "grid_area": null,
            "grid_auto_columns": null,
            "grid_auto_flow": null,
            "grid_auto_rows": null,
            "grid_column": null,
            "grid_gap": null,
            "grid_row": null,
            "grid_template_areas": null,
            "grid_template_columns": null,
            "grid_template_rows": null,
            "height": null,
            "justify_content": null,
            "justify_items": null,
            "left": null,
            "margin": null,
            "max_height": null,
            "max_width": null,
            "min_height": null,
            "min_width": null,
            "object_fit": null,
            "object_position": null,
            "order": null,
            "overflow": null,
            "overflow_x": null,
            "overflow_y": null,
            "padding": null,
            "right": null,
            "top": null,
            "visibility": null,
            "width": null
          }
        },
        "964dc6aaa90641aa831640f5f90c2d2d": {
          "model_module": "@jupyter-widgets/base",
          "model_module_version": "1.2.0",
          "model_name": "LayoutModel",
          "state": {
            "_model_module": "@jupyter-widgets/base",
            "_model_module_version": "1.2.0",
            "_model_name": "LayoutModel",
            "_view_count": null,
            "_view_module": "@jupyter-widgets/base",
            "_view_module_version": "1.2.0",
            "_view_name": "LayoutView",
            "align_content": null,
            "align_items": null,
            "align_self": null,
            "border": null,
            "bottom": null,
            "display": null,
            "flex": null,
            "flex_flow": null,
            "grid_area": null,
            "grid_auto_columns": null,
            "grid_auto_flow": null,
            "grid_auto_rows": null,
            "grid_column": null,
            "grid_gap": null,
            "grid_row": null,
            "grid_template_areas": null,
            "grid_template_columns": null,
            "grid_template_rows": null,
            "height": null,
            "justify_content": null,
            "justify_items": null,
            "left": null,
            "margin": null,
            "max_height": null,
            "max_width": null,
            "min_height": null,
            "min_width": null,
            "object_fit": null,
            "object_position": null,
            "order": null,
            "overflow": null,
            "overflow_x": null,
            "overflow_y": null,
            "padding": null,
            "right": null,
            "top": null,
            "visibility": null,
            "width": null
          }
        },
        "972f3f1bc14948548ea8a91e5ec841e1": {
          "model_module": "@jupyter-widgets/controls",
          "model_module_version": "1.5.0",
          "model_name": "ProgressStyleModel",
          "state": {
            "_model_module": "@jupyter-widgets/controls",
            "_model_module_version": "1.5.0",
            "_model_name": "ProgressStyleModel",
            "_view_count": null,
            "_view_module": "@jupyter-widgets/base",
            "_view_module_version": "1.2.0",
            "_view_name": "StyleView",
            "bar_color": null,
            "description_width": ""
          }
        },
        "99ac979fc832430cbf18a5756b5a6df1": {
          "model_module": "@jupyter-widgets/controls",
          "model_module_version": "1.5.0",
          "model_name": "ProgressStyleModel",
          "state": {
            "_model_module": "@jupyter-widgets/controls",
            "_model_module_version": "1.5.0",
            "_model_name": "ProgressStyleModel",
            "_view_count": null,
            "_view_module": "@jupyter-widgets/base",
            "_view_module_version": "1.2.0",
            "_view_name": "StyleView",
            "bar_color": null,
            "description_width": ""
          }
        },
        "9a331ff6f2e24844af8478b58188b853": {
          "model_module": "@jupyter-widgets/controls",
          "model_module_version": "1.5.0",
          "model_name": "FloatProgressModel",
          "state": {
            "_dom_classes": [],
            "_model_module": "@jupyter-widgets/controls",
            "_model_module_version": "1.5.0",
            "_model_name": "FloatProgressModel",
            "_view_count": null,
            "_view_module": "@jupyter-widgets/controls",
            "_view_module_version": "1.5.0",
            "_view_name": "ProgressView",
            "bar_style": "success",
            "description": "",
            "description_tooltip": null,
            "layout": "IPY_MODEL_775a2fe7d8244cf0bb940e68a160c086",
            "max": 231508,
            "min": 0,
            "orientation": "horizontal",
            "style": "IPY_MODEL_750e10225f404b46bd4a830aa6ba2eaa",
            "value": 231508
          }
        },
        "a047b39beda24a96a012e77edada5fa6": {
          "model_module": "@jupyter-widgets/controls",
          "model_module_version": "1.5.0",
          "model_name": "FloatProgressModel",
          "state": {
            "_dom_classes": [],
            "_model_module": "@jupyter-widgets/controls",
            "_model_module_version": "1.5.0",
            "_model_name": "FloatProgressModel",
            "_view_count": null,
            "_view_module": "@jupyter-widgets/controls",
            "_view_module_version": "1.5.0",
            "_view_name": "ProgressView",
            "bar_style": "success",
            "description": "",
            "description_tooltip": null,
            "layout": "IPY_MODEL_522925768298438e9ed26f129fd0f4c2",
            "max": 570,
            "min": 0,
            "orientation": "horizontal",
            "style": "IPY_MODEL_99ac979fc832430cbf18a5756b5a6df1",
            "value": 570
          }
        },
        "ac8e9f497518458dbe4fb884e2c59806": {
          "model_module": "@jupyter-widgets/controls",
          "model_module_version": "1.5.0",
          "model_name": "HBoxModel",
          "state": {
            "_dom_classes": [],
            "_model_module": "@jupyter-widgets/controls",
            "_model_module_version": "1.5.0",
            "_model_name": "HBoxModel",
            "_view_count": null,
            "_view_module": "@jupyter-widgets/controls",
            "_view_module_version": "1.5.0",
            "_view_name": "HBoxView",
            "box_style": "",
            "children": [
              "IPY_MODEL_f45e3515349c4b65a8d226982b7902ad",
              "IPY_MODEL_b86f6b81d03d4ae5adc6ab65d0c6f062",
              "IPY_MODEL_ae09845661064978a7b2e56b5d015018"
            ],
            "layout": "IPY_MODEL_94c05ce028134b68b28443081bff667a"
          }
        },
        "ae09845661064978a7b2e56b5d015018": {
          "model_module": "@jupyter-widgets/controls",
          "model_module_version": "1.5.0",
          "model_name": "HTMLModel",
          "state": {
            "_dom_classes": [],
            "_model_module": "@jupyter-widgets/controls",
            "_model_module_version": "1.5.0",
            "_model_name": "HTMLModel",
            "_view_count": null,
            "_view_module": "@jupyter-widgets/controls",
            "_view_module_version": "1.5.0",
            "_view_name": "HTMLView",
            "description": "",
            "description_tooltip": null,
            "layout": "IPY_MODEL_642c742ef43a44829e4e092cd61e016c",
            "placeholder": "​",
            "style": "IPY_MODEL_ef43587f722545b48ec9a710c5c4ec5b",
            "value": " 420M/420M [00:09&lt;00:00, 54.9MB/s]"
          }
        },
        "b83d96c05c1241218ac000aca67047bd": {
          "model_module": "@jupyter-widgets/controls",
          "model_module_version": "1.5.0",
          "model_name": "HTMLModel",
          "state": {
            "_dom_classes": [],
            "_model_module": "@jupyter-widgets/controls",
            "_model_module_version": "1.5.0",
            "_model_name": "HTMLModel",
            "_view_count": null,
            "_view_module": "@jupyter-widgets/controls",
            "_view_module_version": "1.5.0",
            "_view_name": "HTMLView",
            "description": "",
            "description_tooltip": null,
            "layout": "IPY_MODEL_964dc6aaa90641aa831640f5f90c2d2d",
            "placeholder": "​",
            "style": "IPY_MODEL_24fcc4c5bff24d97a5a2eb9dc4a0fb15",
            "value": " 570/570 [00:00&lt;00:00, 17.7kB/s]"
          }
        },
        "b86f6b81d03d4ae5adc6ab65d0c6f062": {
          "model_module": "@jupyter-widgets/controls",
          "model_module_version": "1.5.0",
          "model_name": "FloatProgressModel",
          "state": {
            "_dom_classes": [],
            "_model_module": "@jupyter-widgets/controls",
            "_model_module_version": "1.5.0",
            "_model_name": "FloatProgressModel",
            "_view_count": null,
            "_view_module": "@jupyter-widgets/controls",
            "_view_module_version": "1.5.0",
            "_view_name": "ProgressView",
            "bar_style": "success",
            "description": "",
            "description_tooltip": null,
            "layout": "IPY_MODEL_46d89373c9044a57bb96ae043090496f",
            "max": 440473133,
            "min": 0,
            "orientation": "horizontal",
            "style": "IPY_MODEL_93c0db6ce4fe4ee493fda2d6cc519ddf",
            "value": 440473133
          }
        },
        "b9916d50fcfc4266a145d0021500a1db": {
          "model_module": "@jupyter-widgets/controls",
          "model_module_version": "1.5.0",
          "model_name": "DescriptionStyleModel",
          "state": {
            "_model_module": "@jupyter-widgets/controls",
            "_model_module_version": "1.5.0",
            "_model_name": "DescriptionStyleModel",
            "_view_count": null,
            "_view_module": "@jupyter-widgets/base",
            "_view_module_version": "1.2.0",
            "_view_name": "StyleView",
            "description_width": ""
          }
        },
        "d59f46959c824951a46ca7b37123cea5": {
          "model_module": "@jupyter-widgets/controls",
          "model_module_version": "1.5.0",
          "model_name": "HBoxModel",
          "state": {
            "_dom_classes": [],
            "_model_module": "@jupyter-widgets/controls",
            "_model_module_version": "1.5.0",
            "_model_name": "HBoxModel",
            "_view_count": null,
            "_view_module": "@jupyter-widgets/controls",
            "_view_module_version": "1.5.0",
            "_view_name": "HBoxView",
            "box_style": "",
            "children": [
              "IPY_MODEL_f322d21ef49040008701e23b22d2b347",
              "IPY_MODEL_94b5bad94da74e0ebbe65de86eda23b9",
              "IPY_MODEL_7e27bceb50af4f36a761a0968afd24bf"
            ],
            "layout": "IPY_MODEL_9050bbd012cf49a28e71cd5ad0cfcd17"
          }
        },
        "deb7da40c4f54a2dbe472e815cc56ecc": {
          "model_module": "@jupyter-widgets/base",
          "model_module_version": "1.2.0",
          "model_name": "LayoutModel",
          "state": {
            "_model_module": "@jupyter-widgets/base",
            "_model_module_version": "1.2.0",
            "_model_name": "LayoutModel",
            "_view_count": null,
            "_view_module": "@jupyter-widgets/base",
            "_view_module_version": "1.2.0",
            "_view_name": "LayoutView",
            "align_content": null,
            "align_items": null,
            "align_self": null,
            "border": null,
            "bottom": null,
            "display": null,
            "flex": null,
            "flex_flow": null,
            "grid_area": null,
            "grid_auto_columns": null,
            "grid_auto_flow": null,
            "grid_auto_rows": null,
            "grid_column": null,
            "grid_gap": null,
            "grid_row": null,
            "grid_template_areas": null,
            "grid_template_columns": null,
            "grid_template_rows": null,
            "height": null,
            "justify_content": null,
            "justify_items": null,
            "left": null,
            "margin": null,
            "max_height": null,
            "max_width": null,
            "min_height": null,
            "min_width": null,
            "object_fit": null,
            "object_position": null,
            "order": null,
            "overflow": null,
            "overflow_x": null,
            "overflow_y": null,
            "padding": null,
            "right": null,
            "top": null,
            "visibility": null,
            "width": null
          }
        },
        "ef43587f722545b48ec9a710c5c4ec5b": {
          "model_module": "@jupyter-widgets/controls",
          "model_module_version": "1.5.0",
          "model_name": "DescriptionStyleModel",
          "state": {
            "_model_module": "@jupyter-widgets/controls",
            "_model_module_version": "1.5.0",
            "_model_name": "DescriptionStyleModel",
            "_view_count": null,
            "_view_module": "@jupyter-widgets/base",
            "_view_module_version": "1.2.0",
            "_view_name": "StyleView",
            "description_width": ""
          }
        },
        "f322d21ef49040008701e23b22d2b347": {
          "model_module": "@jupyter-widgets/controls",
          "model_module_version": "1.5.0",
          "model_name": "HTMLModel",
          "state": {
            "_dom_classes": [],
            "_model_module": "@jupyter-widgets/controls",
            "_model_module_version": "1.5.0",
            "_model_name": "HTMLModel",
            "_view_count": null,
            "_view_module": "@jupyter-widgets/controls",
            "_view_module_version": "1.5.0",
            "_view_name": "HTMLView",
            "description": "",
            "description_tooltip": null,
            "layout": "IPY_MODEL_943092d7f21b46f0b76c30699251457d",
            "placeholder": "​",
            "style": "IPY_MODEL_61b114927a8f454abf9e628549b90db2",
            "value": "Downloading: 100%"
          }
        },
        "f45e3515349c4b65a8d226982b7902ad": {
          "model_module": "@jupyter-widgets/controls",
          "model_module_version": "1.5.0",
          "model_name": "HTMLModel",
          "state": {
            "_dom_classes": [],
            "_model_module": "@jupyter-widgets/controls",
            "_model_module_version": "1.5.0",
            "_model_name": "HTMLModel",
            "_view_count": null,
            "_view_module": "@jupyter-widgets/controls",
            "_view_module_version": "1.5.0",
            "_view_name": "HTMLView",
            "description": "",
            "description_tooltip": null,
            "layout": "IPY_MODEL_3a8c00c4a21c45de9f666f1c709699b6",
            "placeholder": "​",
            "style": "IPY_MODEL_59f275c96c0a478494eba6526bd29b3c",
            "value": "Downloading: 100%"
          }
        },
        "f4bdccf538714dbda0a29cabe63e5970": {
          "model_module": "@jupyter-widgets/controls",
          "model_module_version": "1.5.0",
          "model_name": "HTMLModel",
          "state": {
            "_dom_classes": [],
            "_model_module": "@jupyter-widgets/controls",
            "_model_module_version": "1.5.0",
            "_model_name": "HTMLModel",
            "_view_count": null,
            "_view_module": "@jupyter-widgets/controls",
            "_view_module_version": "1.5.0",
            "_view_name": "HTMLView",
            "description": "",
            "description_tooltip": null,
            "layout": "IPY_MODEL_1cd934b794f34a9ab49976c950ec4783",
            "placeholder": "​",
            "style": "IPY_MODEL_b9916d50fcfc4266a145d0021500a1db",
            "value": " 226k/226k [00:00&lt;00:00, 1.50MB/s]"
          }
        }
      }
    }
  },
  "nbformat": 4,
  "nbformat_minor": 0
}
